{
 "cells": [
  {
   "cell_type": "markdown",
   "metadata": {},
   "source": [
    "## Model Training"
   ]
  },
  {
   "cell_type": "code",
   "execution_count": 50,
   "metadata": {},
   "outputs": [],
   "source": [
    "from lightgbm import LGBMClassifier\n",
    "from xgboost import XGBClassifier\n",
    "from catboost import CatBoostClassifier\n",
    "\n",
    "from lightgbm import plot_importance, plot_metric\n",
    "\n",
    "from sklearn.metrics import accuracy_score, make_scorer\n",
    "import pandas as pd\n",
    "import numpy as np\n",
    "from sklearn.pipeline import Pipeline, FeatureUnion\n",
    "from sklearn.compose import ColumnTransformer\n",
    "from sklearn.model_selection import train_test_split, GridSearchCV\n",
    "from sklearn.preprocessing import OneHotEncoder, LabelEncoder, Normalizer, FunctionTransformer, OrdinalEncoder\n",
    "from sklearn.impute import SimpleImputer\n",
    "from sklearn.feature_extraction.text import CountVectorizer\n",
    "from sklearn.decomposition import PCA, TruncatedSVD\n",
    "from category_encoders.james_stein import JamesSteinEncoder\n",
    "from category_encoders import CatBoostEncoder, OrdinalEncoder\n",
    "\n",
    "import warnings\n",
    "warnings.simplefilter(\"ignore\")\n",
    "from datetime import datetime\n",
    "\n",
    "# onevsAll???"
   ]
  },
  {
   "cell_type": "code",
   "execution_count": 6,
   "metadata": {},
   "outputs": [],
   "source": [
    "# import all data\n",
    "data = pd.read_csv(\n",
    "    '../data/processed/train.csv', \n",
    "    index_col='id', \n",
    "    parse_dates=['date_recorded'], \n",
    "    infer_datetime_format=True\n",
    ")"
   ]
  },
  {
   "cell_type": "code",
   "execution_count": 7,
   "metadata": {},
   "outputs": [],
   "source": [
    "# import holdout data\n",
    "datatest = pd.read_csv(\n",
    "    '../data/processed/test.csv', \n",
    "   index_col='id', \n",
    "   parse_dates=['date_recorded'], \n",
    "   infer_datetime_format=True\n",
    ")"
   ]
  },
  {
   "cell_type": "markdown",
   "metadata": {},
   "source": [
    "## Data Preparation"
   ]
  },
  {
   "cell_type": "code",
   "execution_count": 8,
   "metadata": {},
   "outputs": [],
   "source": [
    "# predict label\n",
    "y = data.status_group\n",
    "\n",
    "# all features\n",
    "X = data.drop('status_group', axis=1)"
   ]
  },
  {
   "cell_type": "code",
   "execution_count": 9,
   "metadata": {},
   "outputs": [],
   "source": [
    "# encode target as int's\n",
    "y_transformer = LabelEncoder()\n",
    "y = y_transformer.fit_transform(y)"
   ]
  },
  {
   "cell_type": "code",
   "execution_count": 10,
   "metadata": {},
   "outputs": [],
   "source": [
    "# select numeric columns,\n",
    "# TODO: Normalize or Scale (geoposition data? (lat, long))\n",
    "NUMERIC_COLUMNS = X.select_dtypes(include=['number']).columns"
   ]
  },
  {
   "cell_type": "code",
   "execution_count": 11,
   "metadata": {},
   "outputs": [],
   "source": [
    "# select categorical columns\n",
    "TEXT_COLUMNS = X.select_dtypes(include=['object']).columns\n",
    "X[TEXT_COLUMNS] = X[TEXT_COLUMNS].astype(str)"
   ]
  },
  {
   "cell_type": "code",
   "execution_count": 21,
   "metadata": {},
   "outputs": [],
   "source": [
    "DATE_COLUMNS=['date_recorded_day', 'date_recorded_month', 'date_recorded_year']"
   ]
  },
  {
   "cell_type": "code",
   "execution_count": 28,
   "metadata": {},
   "outputs": [],
   "source": [
    "# define transformers for develop a sklearn-pipeline\n",
    "get_numeric_data = FunctionTransformer(lambda df: df[NUMERIC_COLUMNS])\n",
    "get_text_data = FunctionTransformer(lambda df: df[TEXT_COLUMNS])\n",
    "get_date_data = FunctionTransformer(lambda df: df[['date_recorded']])\n",
    "\n",
    "transform_date_data = FunctionTransformer(lambda df: df.assign(\n",
    "    date_recorded_day=df.date_recorded.dt.day,\n",
    "    date_recorded_month=df.date_recorded.dt.month,\n",
    "    date_recorded_year=df.date_recorded.dt.year\n",
    ").drop('date_recorded', axis=1))\n",
    "\n",
    "fill_empty_data = FunctionTransformer(lambda df: df.fillna('mean', axis=1)) # may be a SimpleImputer"
   ]
  },
  {
   "cell_type": "code",
   "execution_count": 29,
   "metadata": {},
   "outputs": [],
   "source": [
    "# TODO: stratified by categorical features\n",
    "X_train, X_test, y_train, y_test = train_test_split(\n",
    "    X, y, \n",
    "    test_size=0.33, \n",
    "    stratify=y\n",
    ")"
   ]
  },
  {
   "cell_type": "code",
   "execution_count": 30,
   "metadata": {},
   "outputs": [],
   "source": [
    "\n",
    "feature_pipeline = FeatureUnion(\n",
    "            transformer_list = [\n",
    "                ('date_features', Pipeline([\n",
    "                    ('selector', get_date_data),\n",
    "                    ('transform', transform_date_data)\n",
    "                ])),\n",
    "                ('numeric_features', Pipeline([\n",
    "                    ('selector', get_numeric_data),\n",
    "                    ('imputer', SimpleImputer()),\n",
    "                ])),\n",
    "                ('text_features', Pipeline([\n",
    "                    ('selector', get_text_data),\n",
    "                    ('imputer', fill_empty_data),\n",
    "                    ('vectorizer', OrdinalEncoder())\n",
    "                    #('decomposition', TruncatedSVD(n_components=50))\n",
    "                ]))\n",
    "             ]\n",
    "        )"
   ]
  },
  {
   "cell_type": "code",
   "execution_count": 31,
   "metadata": {},
   "outputs": [],
   "source": [
    "# preprocess X_train and X_test separately, avoiding data-leakage\n",
    "fp = feature_pipeline.fit(X_train, y_train)"
   ]
  },
  {
   "cell_type": "code",
   "execution_count": 33,
   "metadata": {},
   "outputs": [],
   "source": [
    "X_train_preprocess = pd.DataFrame(\n",
    "    fp.transform(X_train), \n",
    "    columns=list(DATE_COLUMNS) + list(NUMERIC_COLUMNS) + list(TEXT_COLUMNS)\n",
    ")\n",
    "\n",
    "X_test_preprocess = pd.DataFrame(\n",
    "    fp.transform(X_test), \n",
    "    columns=list(DATE_COLUMNS) + list(NUMERIC_COLUMNS) + list(TEXT_COLUMNS)\n",
    ")"
   ]
  },
  {
   "cell_type": "code",
   "execution_count": 37,
   "metadata": {},
   "outputs": [],
   "source": [
    "# preprocess all data. Train transformers in whole dataset\n",
    "fp_all = feature_pipeline.fit(X)"
   ]
  },
  {
   "cell_type": "code",
   "execution_count": 38,
   "metadata": {},
   "outputs": [],
   "source": [
    "X_prepro = fp_all.transform(X)\n",
    "datatest_prepro = fp_all.transform(datatest)"
   ]
  },
  {
   "cell_type": "markdown",
   "metadata": {},
   "source": [
    "### Hyperparameter tuning"
   ]
  },
  {
   "cell_type": "code",
   "execution_count": 39,
   "metadata": {},
   "outputs": [
    {
     "data": {
      "text/plain": [
       "GridSearchCV(cv=3, error_score=nan,\n",
       "             estimator=LGBMClassifier(boosting_type='gbdt', class_weight=None,\n",
       "                                      colsample_bytree=1.0,\n",
       "                                      importance_type='split',\n",
       "                                      learning_rate=0.1, max_depth=-1,\n",
       "                                      min_child_samples=20,\n",
       "                                      min_child_weight=0.001,\n",
       "                                      min_split_gain=0.0, n_estimators=100,\n",
       "                                      n_jobs=-1, num_leaves=31, objective=None,\n",
       "                                      random_state=None, reg_alpha=0.0,\n",
       "                                      reg_lambda=0.0, silent=True,\n",
       "                                      subsample=1.0, subsample_for_bin=200000,\n",
       "                                      subsample_freq=0),\n",
       "             iid='deprecated', n_jobs=None,\n",
       "             param_grid={'colsample_bytree': [0.7], 'learning_rate': [0.1],\n",
       "                         'n_estimators': [300, 800], 'num_leaves': [40],\n",
       "                         'subsample': [0.7]},\n",
       "             pre_dispatch='2*n_jobs', refit='accuracy', return_train_score=True,\n",
       "             scoring={'accuracy': make_scorer(accuracy_score)}, verbose=0)"
      ]
     },
     "execution_count": 39,
     "metadata": {},
     "output_type": "execute_result"
    }
   ],
   "source": [
    "# other scikit-learn modules\n",
    "estimator = LGBMClassifier(\n",
    "    silent=True,\n",
    ")\n",
    "\n",
    "param_grid = {\n",
    "    'learning_rate': [0.1],\n",
    "    'n_estimators': [300,800],\n",
    "    'subsample': [0.7],\n",
    "    'num_leaves': [40],\n",
    "#     'max_depth': [15],\n",
    "    'colsample_bytree': [0.7],\n",
    "}\n",
    "\n",
    "param_fit_grid={\n",
    "    'eval_set': [(X_test_preprocess, y_test)],\n",
    "    'verbose':False,\n",
    "    'early_stopping_rounds':5\n",
    "}\n",
    "\n",
    "gbm = GridSearchCV(\n",
    "    estimator, \n",
    "    param_grid, \n",
    "    scoring= {'accuracy': make_scorer(accuracy_score)}, \n",
    "    cv=3, \n",
    "    return_train_score=True, \n",
    "    refit='accuracy'\n",
    ")\n",
    "\n",
    "gbm.fit(\n",
    "    X_train_preprocess, \n",
    "    y_train, \n",
    "    **param_fit_grid, \n",
    "    categorical_feature=list(TEXT_COLUMNS)\n",
    ")"
   ]
  },
  {
   "cell_type": "code",
   "execution_count": 40,
   "metadata": {},
   "outputs": [
    {
     "data": {
      "text/plain": [
       "({'colsample_bytree': 0.7,\n",
       "  'learning_rate': 0.1,\n",
       "  'n_estimators': 300,\n",
       "  'num_leaves': 40,\n",
       "  'subsample': 0.7},\n",
       " 0.7882808181315645)"
      ]
     },
     "execution_count": 40,
     "metadata": {},
     "output_type": "execute_result"
    }
   ],
   "source": [
    "# test other parameters\n",
    "gbm.best_params_, gbm.best_score_"
   ]
  },
  {
   "cell_type": "code",
   "execution_count": 41,
   "metadata": {},
   "outputs": [
    {
     "data": {
      "text/plain": [
       "(array([0.78828082, 0.78828082]), array([0.85383688, 0.85383688]))"
      ]
     },
     "execution_count": 41,
     "metadata": {},
     "output_type": "execute_result"
    }
   ],
   "source": [
    "# TODO: see overfit (.85 train vs 0.79 test)\n",
    "gbm.cv_results_['mean_test_accuracy'], gbm.cv_results_['mean_train_accuracy']"
   ]
  },
  {
   "cell_type": "markdown",
   "metadata": {},
   "source": [
    "### Train LGB model"
   ]
  },
  {
   "cell_type": "code",
   "execution_count": 61,
   "metadata": {},
   "outputs": [],
   "source": [
    "model_lgb = LGBMClassifier(\n",
    "   **gbm.best_params_,\n",
    "    silent=True\n",
    ")\n",
    "\n",
    "\n",
    "history = model_lgb.fit(\n",
    "    X_train_preprocess, y_train, \n",
    "    eval_set= [(X_train_preprocess, y_train), (X_test_preprocess, y_test)],\n",
    "    verbose=False,\n",
    "    early_stopping_rounds=10,\n",
    "    categorical_feature=list(TEXT_COLUMNS),\n",
    ")"
   ]
  },
  {
   "cell_type": "markdown",
   "metadata": {},
   "source": [
    "### Test LGB model"
   ]
  },
  {
   "cell_type": "code",
   "execution_count": 62,
   "metadata": {},
   "outputs": [
    {
     "data": {
      "text/plain": [
       "0.859264284637419"
      ]
     },
     "execution_count": 62,
     "metadata": {},
     "output_type": "execute_result"
    }
   ],
   "source": [
    "accuracy_score(model_lgb.predict(X_train_preprocess, num_iteration=model_lgb.best_iteration_), y_train)"
   ]
  },
  {
   "cell_type": "code",
   "execution_count": 63,
   "metadata": {},
   "outputs": [
    {
     "data": {
      "text/plain": [
       "0.7973166003469033"
      ]
     },
     "execution_count": 63,
     "metadata": {},
     "output_type": "execute_result"
    }
   ],
   "source": [
    "accuracy_score(model_lgb.predict(X_test_preprocess, num_iteration=model_lgb.best_iteration_), y_test)"
   ]
  },
  {
   "cell_type": "code",
   "execution_count": 66,
   "metadata": {},
   "outputs": [
    {
     "data": {
      "text/plain": [
       "<matplotlib.axes._subplots.AxesSubplot at 0x7f1cb815dcc0>"
      ]
     },
     "execution_count": 66,
     "metadata": {},
     "output_type": "execute_result"
    },
    {
     "data": {
      "image/png": "[encoded data removed]",
      "text/plain": [
       "<Figure size 432x288 with 1 Axes>"
      ]
     },
     "metadata": {
      "needs_background": "light"
     },
     "output_type": "display_data"
    }
   ],
   "source": [
    "plot_importance(model_lgb, max_num_features=10)"
   ]
  },
  {
   "cell_type": "code",
   "execution_count": 67,
   "metadata": {},
   "outputs": [
    {
     "data": {
      "text/plain": [
       "<matplotlib.axes._subplots.AxesSubplot at 0x7f1cb81066d8>"
      ]
     },
     "execution_count": 67,
     "metadata": {},
     "output_type": "execute_result"
    },
    {
     "data": {
      "image/png": "[encoded data removed]",
      "text/plain": [
       "<Figure size 432x288 with 1 Axes>"
      ]
     },
     "metadata": {
      "needs_background": "light"
     },
     "output_type": "display_data"
    }
   ],
   "source": [
    "# almost overfitted :( )\n",
    "plot_metric(model_lgb.evals_result_)"
   ]
  },
  {
   "cell_type": "markdown",
   "metadata": {},
   "source": [
    "### LGB for final prediction (deployment)"
   ]
  },
  {
   "cell_type": "code",
   "execution_count": 70,
   "metadata": {},
   "outputs": [
    {
     "data": {
      "text/plain": [
       "LGBMClassifier(boosting_type='gbdt', class_weight=None, colsample_bytree=0.7,\n",
       "               importance_type='split', learning_rate=0.1, max_depth=-1,\n",
       "               min_child_samples=20, min_child_weight=0.001, min_split_gain=0.0,\n",
       "               n_estimators=300, n_jobs=-1, num_leaves=40, objective=None,\n",
       "               random_state=None, reg_alpha=0.0, reg_lambda=0.0, silent=True,\n",
       "               subsample=0.7, subsample_for_bin=200000, subsample_freq=0)"
      ]
     },
     "execution_count": 70,
     "metadata": {},
     "output_type": "execute_result"
    }
   ],
   "source": [
    "final_lgb =  LGBMClassifier(\n",
    "   **gbm.best_params_,\n",
    "    silent=True\n",
    ")\n",
    "\n",
    "final_lgb.fit(\n",
    "    X_prepro, y\n",
    ")"
   ]
  },
  {
   "cell_type": "code",
   "execution_count": 71,
   "metadata": {},
   "outputs": [
    {
     "data": {
      "text/plain": [
       "0.8558249158249158"
      ]
     },
     "execution_count": 71,
     "metadata": {},
     "output_type": "execute_result"
    }
   ],
   "source": [
    "accuracy_score(final_lgb.predict(X_prepro, num_iteration=final_lgb.best_iteration_), y)"
   ]
  },
  {
   "cell_type": "code",
   "execution_count": 72,
   "metadata": {},
   "outputs": [],
   "source": [
    "predictions = final_lgb.predict(datatest_prepro)\n",
    "predictions = y_transformer.inverse_transform(predictions)"
   ]
  },
  {
   "cell_type": "code",
   "execution_count": 75,
   "metadata": {},
   "outputs": [],
   "source": [
    "# export data for submition\n",
    "now_str = datetime.now().strftime('%Y-%m-%d_%H-%M-%S')\n",
    "pd.DataFrame(predictions, index=datatest.index, columns=['status_group']).to_csv(f'../data/results/results-lgb-{now_str}.csv')"
   ]
  },
  {
   "cell_type": "markdown",
   "metadata": {},
   "source": [
    "TODO: Next part need refactors\n",
    "_____________________________\n",
    "\n",
    "### XGBClassifier\n",
    "same approach but for xgb"
   ]
  },
  {
   "cell_type": "code",
   "execution_count": null,
   "metadata": {},
   "outputs": [],
   "source": [
    "params_xgb = {\n",
    "    'max_depth': [8],\n",
    "    'n_estimators': [100],\n",
    "    'learning_rate': [0.1],\n",
    "    'subsample':[0.6],\n",
    "    'subsample':[0.8,],\n",
    "    'colsample_bytree':[0.8,],\n",
    "    'gamma':[0.1]\n",
    "}\n",
    "\n",
    "params_fit_xgb = {\n",
    "    'early_stopping_rounds':5, \n",
    "    'eval_metric':\"auc\",\n",
    "    'eval_set':[(X_test_preprocess, y_test)]\n",
    "}\n",
    "\n",
    "xgb_model = XGBClassifier()\n",
    "gs_xgb = GridSearchCV(xgb_model,params_xgb, verbose=1, scoring= {'accuracy': make_scorer(accuracy_score)}, cv=3, return_train_score=True, refit='accuracy', n_jobs=3)\n",
    "gs_xgb.fit(X_train_preprocess, y_train, **param_fit_grid)"
   ]
  },
  {
   "cell_type": "code",
   "execution_count": null,
   "metadata": {},
   "outputs": [],
   "source": [
    "gs_xgb.best_params_, gs_xgb.best_score_,"
   ]
  },
  {
   "cell_type": "code",
   "execution_count": null,
   "metadata": {},
   "outputs": [],
   "source": [
    "gs_xgb.cv_results_"
   ]
  },
  {
   "cell_type": "code",
   "execution_count": null,
   "metadata": {},
   "outputs": [],
   "source": [
    "final_xgb = XGBClassifier(\n",
    "  **gs_xgb.best_params_,\n",
    "    silent=True\n",
    ").fit(X_prepro, y)\n",
    "accuracy_score(final_xgb.predict(X_prepro), y)"
   ]
  },
  {
   "cell_type": "code",
   "execution_count": null,
   "metadata": {},
   "outputs": [],
   "source": [
    "predictions = final_xgb.predict(datatest_prepro)\n",
    "predictions = y_transformer.inverse_transform(predictions)\n",
    "pd.DataFrame(predictions, index=datatest.index, columns=['status_group']).to_csv('../data/results/results-3-xgb.csv')"
   ]
  },
  {
   "cell_type": "markdown",
   "metadata": {},
   "source": [
    "_______________________\n",
    "## CatBoost\n"
   ]
  },
  {
   "cell_type": "code",
   "execution_count": null,
   "metadata": {},
   "outputs": [],
   "source": [
    "cat_final = CatBoostClassifier(\n",
    "    silent=True,\n",
    "    eval_metric='Accuracy',\n",
    "    n_estimators=1000,\n",
    "    max_depth=8\n",
    "    \n",
    ").fit(X_prepro, y,\n",
    "    early_stopping_rounds= 5,\n",
    ")\n",
    "accuracy_score(cat_final.predict(X_prepro), y)\n"
   ]
  },
  {
   "cell_type": "code",
   "execution_count": null,
   "metadata": {},
   "outputs": [],
   "source": [
    "predictions = cat_final.predict(datatest_prepro)\n",
    "predictions = y_transformer.inverse_transform(predictions)\n",
    "pd.DataFrame(predictions, index=datatest.index, columns=['status_group']).to_csv('../data/results/results-4-cat.csv')"
   ]
  },
  {
   "cell_type": "markdown",
   "metadata": {},
   "source": [
    "## Other models"
   ]
  },
  {
   "cell_type": "code",
   "execution_count": null,
   "metadata": {},
   "outputs": [],
   "source": [
    "from sklearn.linear_model import LogisticRegression, SGDClassifier\n",
    "from sklearn.multiclass import OneVsRestClassifier"
   ]
  },
  {
   "cell_type": "code",
   "execution_count": null,
   "metadata": {},
   "outputs": [],
   "source": [
    "lr_final = OneVsRestClassifier(LogisticRegression()).fit(X_prepro, y)\n",
    "accuracy_score(lr_final.predict(X_prepro), y)"
   ]
  },
  {
   "cell_type": "code",
   "execution_count": null,
   "metadata": {},
   "outputs": [],
   "source": [
    "lr_final = OneVsRestClassifier(SGDClassifier()).fit(X_prepro, y)\n",
    "accuracy_score(lr_final.predict(X_prepro), y)"
   ]
  },
  {
   "cell_type": "code",
   "execution_count": null,
   "metadata": {},
   "outputs": [],
   "source": [
    "import tensorflow as tf\n",
    "\n",
    "from tensorflow import feature_column\n",
    "from tensorflow.keras import layers\n"
   ]
  },
  {
   "cell_type": "code",
   "execution_count": null,
   "metadata": {},
   "outputs": [],
   "source": [
    "y_train_onehot = OneHotEncoder().fit_transform(y_train.reshape(-1,1)).toarray()\n",
    "y_test_onehot = OneHotEncoder().fit_transform(y_test.reshape(-1,1)).toarray()"
   ]
  },
  {
   "cell_type": "code",
   "execution_count": null,
   "metadata": {},
   "outputs": [],
   "source": [
    "model_keras = tf.keras.Sequential([\n",
    "    layers.Dense(5000, input_shape=(32,)),\n",
    "    layers.Dropout(0.3),\n",
    "    layers.Dense(100, activation='tanh'),\n",
    "    layers.Dense(y_train_onehot.shape[1], activation='softmax')\n",
    "])\n",
    "\n",
    "model_keras.compile(\n",
    "    optimizer='adam',\n",
    "    loss='categorical_crossentropy',\n",
    "    metrics=['accuracy']\n",
    ")\n",
    "\n",
    "model_keras.fit(\n",
    "    X_train_preprocess, y_train_onehot,\n",
    "    validation_data=(X_test_preprocess,y_test_onehot),\n",
    "    epochs=5\n",
    ")"
   ]
  },
  {
   "cell_type": "code",
   "execution_count": null,
   "metadata": {},
   "outputs": [],
   "source": []
  }
 ],
 "metadata": {
  "kernelspec": {
   "display_name": "Python 3",
   "language": "python",
   "name": "python3"
  },
  "language_info": {
   "codemirror_mode": {
    "name": "ipython",
    "version": 3
   },
   "file_extension": ".py",
   "mimetype": "text/x-python",
   "name": "python",
   "nbconvert_exporter": "python",
   "pygments_lexer": "ipython3",
   "version": "3.6.9"
  }
 },
 "nbformat": 4,
 "nbformat_minor": 2
}
