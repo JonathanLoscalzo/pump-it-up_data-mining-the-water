{
 "cells": [
  {
   "cell_type": "markdown",
   "metadata": {},
   "source": [
    "## Model Training"
   ]
  },
  {
   "cell_type": "code",
   "execution_count": 1,
   "metadata": {},
   "outputs": [],
   "source": [
    "import utils as utils\n",
    "%load_ext autoreload\n",
    "%autoreload 2\n",
    "%matplotlib inline"
   ]
  },
  {
   "cell_type": "code",
   "execution_count": 2,
   "metadata": {},
   "outputs": [],
   "source": [
    "## importing models\n",
    "from lightgbm import LGBMClassifier\n",
    "from xgboost import XGBClassifier\n",
    "from catboost import CatBoostClassifier\n",
    "from sklearn.ensemble import RandomForestClassifier\n",
    "from mlxtend.classifier import StackingClassifier, EnsembleVoteClassifier"
   ]
  },
  {
   "cell_type": "code",
   "execution_count": 3,
   "metadata": {},
   "outputs": [],
   "source": [
    "from sklearn.metrics import accuracy_score, make_scorer, f1_score, classification_report, plot_confusion_matrix\n",
    "\n",
    "# preprocessing\n",
    "from category_encoders import OrdinalEncoder\n",
    "from sklearn.pipeline import Pipeline, FeatureUnion\n",
    "from sklearn.compose import ColumnTransformer\n",
    "\n",
    "from sklearn.model_selection import train_test_split, GridSearchCV, StratifiedKFold, cross_val_score\n",
    "from sklearn.model_selection import ParameterGrid\n",
    "\n",
    "from sklearn.preprocessing import LabelEncoder, FunctionTransformer\n",
    "    \n",
    "from sklearn.impute import SimpleImputer\n",
    "\n",
    "# other libs\n",
    "import matplotlib.pyplot as plt\n",
    "import pandas as pd\n",
    "import numpy as np\n",
    "import warnings\n",
    "from datetime import datetime\n",
    "\n",
    "pd.options.display.max_columns = None\n",
    "warnings.simplefilter(\"ignore\")"
   ]
  },
  {
   "cell_type": "markdown",
   "metadata": {},
   "source": [
    "## Data Preparation & Selection"
   ]
  },
  {
   "cell_type": "code",
   "execution_count": 4,
   "metadata": {},
   "outputs": [],
   "source": [
    "# import all data\n",
    "data = pd.read_csv(\n",
    "    '../data/processed/train.csv', \n",
    "    index_col='id', \n",
    "    parse_dates=['date_recorded'], \n",
    "    infer_datetime_format=True\n",
    ")"
   ]
  },
  {
   "cell_type": "code",
   "execution_count": 5,
   "metadata": {},
   "outputs": [],
   "source": [
    "# import holdout data\n",
    "datatest = pd.read_csv(\n",
    "    '../data/processed/test.csv', \n",
    "   index_col='id', \n",
    "   parse_dates=['date_recorded'], \n",
    "   infer_datetime_format=True\n",
    ")"
   ]
  },
  {
   "cell_type": "code",
   "execution_count": 6,
   "metadata": {},
   "outputs": [],
   "source": [
    "# predict label\n",
    "y = data.status_group\n",
    "\n",
    "# all features\n",
    "X = data.drop('status_group', axis=1)"
   ]
  },
  {
   "cell_type": "code",
   "execution_count": 7,
   "metadata": {},
   "outputs": [],
   "source": [
    "# encode target as int's\n",
    "y_transformer = LabelEncoder()\n",
    "y = y_transformer.fit_transform(y)"
   ]
  },
  {
   "cell_type": "code",
   "execution_count": 151,
   "metadata": {},
   "outputs": [
    {
     "data": {
      "text/plain": [
       "array(['functional', 'functional needs repair', 'non functional'],\n",
       "      dtype=object)"
      ]
     },
     "execution_count": 151,
     "metadata": {},
     "output_type": "execute_result"
    }
   ],
   "source": [
    "y_transformer.inverse_transform(np.array([0,1,2]).reshape(-1,1))"
   ]
  },
  {
   "cell_type": "code",
   "execution_count": 8,
   "metadata": {},
   "outputs": [
    {
     "data": {
      "text/plain": [
       "Index(['amount_tsh', 'gps_height', 'longitude', 'latitude', 'num_private',\n",
       "       'region_code', 'district_code', 'population', 'construction_year'],\n",
       "      dtype='object')"
      ]
     },
     "execution_count": 8,
     "metadata": {},
     "output_type": "execute_result"
    }
   ],
   "source": [
    "# select numeric columns,\n",
    "# TODO: Normalize or Scale (geoposition data? (lat, long))\n",
    "NUMERIC_COLUMNS = X.select_dtypes(include=['number']).columns\n",
    "NUMERIC_COLUMNS"
   ]
  },
  {
   "cell_type": "code",
   "execution_count": 9,
   "metadata": {},
   "outputs": [
    {
     "data": {
      "text/plain": [
       "Index(['funder', 'installer', 'wpt_name', 'basin', 'subvillage', 'region',\n",
       "       'lga', 'ward', 'public_meeting', 'recorded_by', 'scheme_management',\n",
       "       'scheme_name', 'permit', 'extraction_type', 'extraction_type_class',\n",
       "       'management', 'payment', 'water_quality', 'quality_group', 'quantity',\n",
       "       'source', 'source_class', 'waterpoint_type'],\n",
       "      dtype='object')"
      ]
     },
     "execution_count": 9,
     "metadata": {},
     "output_type": "execute_result"
    }
   ],
   "source": [
    "# select categorical columns\n",
    "TEXT_COLUMNS = X.select_dtypes(include=['object']).columns\n",
    "X[TEXT_COLUMNS] = X[TEXT_COLUMNS].astype(str)\n",
    "TEXT_COLUMNS"
   ]
  },
  {
   "cell_type": "code",
   "execution_count": 10,
   "metadata": {},
   "outputs": [],
   "source": [
    "DATE_COLUMNS=['date_recorded_day', 'date_recorded_month', 'date_recorded_year']"
   ]
  },
  {
   "cell_type": "code",
   "execution_count": 11,
   "metadata": {},
   "outputs": [],
   "source": [
    "FINAL_COLUMNS = list(DATE_COLUMNS) + list(NUMERIC_COLUMNS) + list(TEXT_COLUMNS)"
   ]
  },
  {
   "cell_type": "code",
   "execution_count": 14,
   "metadata": {},
   "outputs": [],
   "source": [
    "# TODO: stratified by categorical features\n",
    "X_train, X_test, y_train, y_test = train_test_split(\n",
    "    X, y, \n",
    "    test_size=0.33, \n",
    "    stratify=y\n",
    ")"
   ]
  },
  {
   "cell_type": "markdown",
   "metadata": {},
   "source": [
    "### Preprocessing with Pipelines!"
   ]
  },
  {
   "cell_type": "code",
   "execution_count": 17,
   "metadata": {},
   "outputs": [],
   "source": [
    "# define transformers for develop a sklearn-pipeline\n",
    "get_numeric_data = FunctionTransformer(lambda df: df[NUMERIC_COLUMNS])\n",
    "get_text_data = FunctionTransformer(lambda df: df[TEXT_COLUMNS])\n",
    "get_date_data = FunctionTransformer(lambda df: df[['date_recorded']])\n",
    "\n",
    "transform_date_data = FunctionTransformer(lambda df: df.assign(\n",
    "    date_recorded_day=df.date_recorded.dt.day,\n",
    "    date_recorded_month=df.date_recorded.dt.month,\n",
    "    date_recorded_year=df.date_recorded.dt.year\n",
    ").drop('date_recorded', axis=1))\n",
    "\n",
    "fill_empty_data = FunctionTransformer(lambda df: df.fillna('mean', axis=1)) # may be a SimpleImputer"
   ]
  },
  {
   "cell_type": "code",
   "execution_count": 18,
   "metadata": {},
   "outputs": [],
   "source": [
    "def preprocess_pipeline():\n",
    "    return FeatureUnion(\n",
    "                transformer_list = [\n",
    "                    ('date_features', Pipeline([\n",
    "                        ('selector', get_date_data),\n",
    "                        ('transform', transform_date_data)\n",
    "                    ])),\n",
    "                    ('numeric_features', Pipeline([\n",
    "                        ('selector', get_numeric_data),\n",
    "                        ('imputer', SimpleImputer()),\n",
    "                    ])),\n",
    "                    ('text_features', Pipeline([\n",
    "                        ('selector', get_text_data),\n",
    "                        #('imputer', fill_empty_data),\n",
    "                        ('vectorizer', OrdinalEncoder())\n",
    "                        #('decomposition', TruncatedSVD(n_components=50))\n",
    "                    ]))\n",
    "                 ]\n",
    "            )"
   ]
  },
  {
   "cell_type": "code",
   "execution_count": 19,
   "metadata": {},
   "outputs": [],
   "source": [
    "def get_pipeline_model(clf):\n",
    "    return Pipeline([\n",
    "        ('preprocess', preprocess_pipeline()),\n",
    "        ('clf', clf)\n",
    "    ])"
   ]
  },
  {
   "cell_type": "code",
   "execution_count": 20,
   "metadata": {},
   "outputs": [],
   "source": [
    "feature_pipeline = preprocess_pipeline()"
   ]
  },
  {
   "cell_type": "code",
   "execution_count": 21,
   "metadata": {},
   "outputs": [],
   "source": [
    "# preprocess X_train and X_test separately, avoiding data-leakage\n",
    "fp = feature_pipeline.fit(X_train, y_train)"
   ]
  },
  {
   "cell_type": "code",
   "execution_count": 22,
   "metadata": {},
   "outputs": [],
   "source": [
    "X_train_preprocess = pd.DataFrame(\n",
    "    fp.transform(X_train), \n",
    "    columns=FINAL_COLUMNS\n",
    ")\n",
    "\n",
    "X_test_preprocess = pd.DataFrame(\n",
    "    fp.transform(X_test), \n",
    "    columns=FINAL_COLUMNS\n",
    ")"
   ]
  },
  {
   "cell_type": "code",
   "execution_count": 23,
   "metadata": {},
   "outputs": [],
   "source": [
    "# preprocess all data. Train transformers in whole dataset\n",
    "fp_all = feature_pipeline.fit(X)"
   ]
  },
  {
   "cell_type": "code",
   "execution_count": 24,
   "metadata": {},
   "outputs": [],
   "source": [
    "X_prepro = pd.DataFrame(\n",
    "    fp_all.transform(X),\n",
    "    columns=list(DATE_COLUMNS) + list(NUMERIC_COLUMNS) + list(TEXT_COLUMNS)\n",
    ")\n",
    "\n",
    "datatest_prepro = fp_all.transform(datatest)"
   ]
  },
  {
   "cell_type": "code",
   "execution_count": 146,
   "metadata": {},
   "outputs": [
    {
     "data": {
      "text/html": [
       "<div>\n",
       "<style scoped>\n",
       "    .dataframe tbody tr th:only-of-type {\n",
       "        vertical-align: middle;\n",
       "    }\n",
       "\n",
       "    .dataframe tbody tr th {\n",
       "        vertical-align: top;\n",
       "    }\n",
       "\n",
       "    .dataframe thead th {\n",
       "        text-align: right;\n",
       "    }\n",
       "</style>\n",
       "<table border=\"1\" class=\"dataframe\">\n",
       "  <thead>\n",
       "    <tr style=\"text-align: right;\">\n",
       "      <th></th>\n",
       "      <th>amount_tsh</th>\n",
       "      <th>gps_height</th>\n",
       "      <th>longitude</th>\n",
       "      <th>latitude</th>\n",
       "      <th>num_private</th>\n",
       "      <th>region_code</th>\n",
       "      <th>district_code</th>\n",
       "      <th>population</th>\n",
       "      <th>construction_year</th>\n",
       "    </tr>\n",
       "  </thead>\n",
       "  <tbody>\n",
       "    <tr>\n",
       "      <th>amount_tsh</th>\n",
       "      <td>1.000000</td>\n",
       "      <td>0.076650</td>\n",
       "      <td>0.022134</td>\n",
       "      <td>-0.052670</td>\n",
       "      <td>0.002944</td>\n",
       "      <td>-0.026813</td>\n",
       "      <td>-0.023599</td>\n",
       "      <td>0.016288</td>\n",
       "      <td>0.067915</td>\n",
       "    </tr>\n",
       "    <tr>\n",
       "      <th>gps_height</th>\n",
       "      <td>0.076650</td>\n",
       "      <td>1.000000</td>\n",
       "      <td>0.149155</td>\n",
       "      <td>-0.035751</td>\n",
       "      <td>0.007237</td>\n",
       "      <td>-0.183521</td>\n",
       "      <td>-0.171233</td>\n",
       "      <td>0.135003</td>\n",
       "      <td>0.658727</td>\n",
       "    </tr>\n",
       "    <tr>\n",
       "      <th>longitude</th>\n",
       "      <td>0.022134</td>\n",
       "      <td>0.149155</td>\n",
       "      <td>1.000000</td>\n",
       "      <td>-0.425802</td>\n",
       "      <td>0.023873</td>\n",
       "      <td>0.034197</td>\n",
       "      <td>0.151398</td>\n",
       "      <td>0.086590</td>\n",
       "      <td>0.396732</td>\n",
       "    </tr>\n",
       "    <tr>\n",
       "      <th>latitude</th>\n",
       "      <td>-0.052670</td>\n",
       "      <td>-0.035751</td>\n",
       "      <td>-0.425802</td>\n",
       "      <td>1.000000</td>\n",
       "      <td>0.006837</td>\n",
       "      <td>-0.221018</td>\n",
       "      <td>-0.201020</td>\n",
       "      <td>-0.022152</td>\n",
       "      <td>-0.245278</td>\n",
       "    </tr>\n",
       "    <tr>\n",
       "      <th>num_private</th>\n",
       "      <td>0.002944</td>\n",
       "      <td>0.007237</td>\n",
       "      <td>0.023873</td>\n",
       "      <td>0.006837</td>\n",
       "      <td>1.000000</td>\n",
       "      <td>-0.020377</td>\n",
       "      <td>-0.004478</td>\n",
       "      <td>0.003818</td>\n",
       "      <td>0.026056</td>\n",
       "    </tr>\n",
       "    <tr>\n",
       "      <th>region_code</th>\n",
       "      <td>-0.026813</td>\n",
       "      <td>-0.183521</td>\n",
       "      <td>0.034197</td>\n",
       "      <td>-0.221018</td>\n",
       "      <td>-0.020377</td>\n",
       "      <td>1.000000</td>\n",
       "      <td>0.678602</td>\n",
       "      <td>0.094088</td>\n",
       "      <td>0.031724</td>\n",
       "    </tr>\n",
       "    <tr>\n",
       "      <th>district_code</th>\n",
       "      <td>-0.023599</td>\n",
       "      <td>-0.171233</td>\n",
       "      <td>0.151398</td>\n",
       "      <td>-0.201020</td>\n",
       "      <td>-0.004478</td>\n",
       "      <td>0.678602</td>\n",
       "      <td>1.000000</td>\n",
       "      <td>0.061831</td>\n",
       "      <td>0.048315</td>\n",
       "    </tr>\n",
       "    <tr>\n",
       "      <th>population</th>\n",
       "      <td>0.016288</td>\n",
       "      <td>0.135003</td>\n",
       "      <td>0.086590</td>\n",
       "      <td>-0.022152</td>\n",
       "      <td>0.003818</td>\n",
       "      <td>0.094088</td>\n",
       "      <td>0.061831</td>\n",
       "      <td>1.000000</td>\n",
       "      <td>0.260910</td>\n",
       "    </tr>\n",
       "    <tr>\n",
       "      <th>construction_year</th>\n",
       "      <td>0.067915</td>\n",
       "      <td>0.658727</td>\n",
       "      <td>0.396732</td>\n",
       "      <td>-0.245278</td>\n",
       "      <td>0.026056</td>\n",
       "      <td>0.031724</td>\n",
       "      <td>0.048315</td>\n",
       "      <td>0.260910</td>\n",
       "      <td>1.000000</td>\n",
       "    </tr>\n",
       "  </tbody>\n",
       "</table>\n",
       "</div>"
      ],
      "text/plain": [
       "                   amount_tsh  gps_height  longitude  latitude  num_private  \\\n",
       "amount_tsh           1.000000    0.076650   0.022134 -0.052670     0.002944   \n",
       "gps_height           0.076650    1.000000   0.149155 -0.035751     0.007237   \n",
       "longitude            0.022134    0.149155   1.000000 -0.425802     0.023873   \n",
       "latitude            -0.052670   -0.035751  -0.425802  1.000000     0.006837   \n",
       "num_private          0.002944    0.007237   0.023873  0.006837     1.000000   \n",
       "region_code         -0.026813   -0.183521   0.034197 -0.221018    -0.020377   \n",
       "district_code       -0.023599   -0.171233   0.151398 -0.201020    -0.004478   \n",
       "population           0.016288    0.135003   0.086590 -0.022152     0.003818   \n",
       "construction_year    0.067915    0.658727   0.396732 -0.245278     0.026056   \n",
       "\n",
       "                   region_code  district_code  population  construction_year  \n",
       "amount_tsh           -0.026813      -0.023599    0.016288           0.067915  \n",
       "gps_height           -0.183521      -0.171233    0.135003           0.658727  \n",
       "longitude             0.034197       0.151398    0.086590           0.396732  \n",
       "latitude             -0.221018      -0.201020   -0.022152          -0.245278  \n",
       "num_private          -0.020377      -0.004478    0.003818           0.026056  \n",
       "region_code           1.000000       0.678602    0.094088           0.031724  \n",
       "district_code         0.678602       1.000000    0.061831           0.048315  \n",
       "population            0.094088       0.061831    1.000000           0.260910  \n",
       "construction_year     0.031724       0.048315    0.260910           1.000000  "
      ]
     },
     "execution_count": 146,
     "metadata": {},
     "output_type": "execute_result"
    }
   ],
   "source": [
    "X.corr()"
   ]
  },
  {
   "cell_type": "markdown",
   "metadata": {},
   "source": [
    "## Evaluate performance of some models"
   ]
  },
  {
   "cell_type": "code",
   "execution_count": 25,
   "metadata": {},
   "outputs": [],
   "source": [
    "@utils.timeit\n",
    "def evaluate_classifier(clf, X, y, scoring='accuracy'):\n",
    "    scores = cross_val_score(clf, X, y, scoring='accuracy', cv=StratifiedKFold(3), verbose=0)\n",
    "    name = type(clf).__name__ if (type(clf).__name__ != 'Pipeline') else type(clf.steps[-1][1]).__name__\n",
    "    print(f'{name} : {scores.mean()} +/- {scores.std()}')\n"
   ]
  },
  {
   "cell_type": "code",
   "execution_count": 26,
   "metadata": {},
   "outputs": [
    {
     "name": "stdout",
     "output_type": "stream",
     "text": [
      "********** Start **********\n",
      "XGBClassifier : 0.7336868686868687 +/- 0.0029033449613791182\n",
      "Time spent :  0:00:26.835271\n",
      "********** End **********\n",
      "\n",
      "********** Start **********\n",
      "LGBMClassifier : 0.7723063973063974 +/- 0.0009899791533999399\n",
      "Time spent :  0:00:10.892493\n",
      "********** End **********\n",
      "\n",
      "********** Start **********\n",
      "RandomForestClassifier : 0.8024242424242424 +/- 0.0021431445901952087\n",
      "Time spent :  0:00:18.336419\n",
      "********** End **********\n",
      "\n",
      "********** Start **********\n",
      "CatBoostClassifier : 0.7148653198653198 +/- 0.0023408544566768295\n",
      "Time spent :  0:00:07.668704\n",
      "********** End **********\n",
      "\n"
     ]
    }
   ],
   "source": [
    "# to avoid data leakage, we \"piped\" all data always!\n",
    "clfs = [\n",
    "    XGBClassifier(n_estimators=50), \n",
    "    LGBMClassifier(n_estimators=50) , \n",
    "    RandomForestClassifier(n_estimators=50), \n",
    "    CatBoostClassifier(n_estimators=50, verbose=0)\n",
    "]\n",
    "\n",
    "clfs = [get_pipeline_model(clf) for clf in clfs]\n",
    "\n",
    "for clf in clfs:\n",
    "    evaluate_classifier(clf, X, y)\n"
   ]
  },
  {
   "cell_type": "markdown",
   "metadata": {},
   "source": [
    "## Random Forest: selected!"
   ]
  },
  {
   "cell_type": "markdown",
   "metadata": {},
   "source": [
    "### Hyperparameter tuning"
   ]
  },
  {
   "cell_type": "code",
   "execution_count": 44,
   "metadata": {},
   "outputs": [
    {
     "name": "stdout",
     "output_type": "stream",
     "text": [
      "Fitting 3 folds for each of 4 candidates, totalling 12 fits\n"
     ]
    },
    {
     "name": "stderr",
     "output_type": "stream",
     "text": [
      "[Parallel(n_jobs=-1)]: Using backend LokyBackend with 4 concurrent workers.\n",
      "[Parallel(n_jobs=-1)]: Done   5 tasks      | elapsed:  1.6min\n",
      "[Parallel(n_jobs=-1)]: Done   7 out of  12 | elapsed:  1.7min remaining:  1.2min\n",
      "[Parallel(n_jobs=-1)]: Done   9 out of  12 | elapsed:  2.3min remaining:   47.0s\n",
      "[Parallel(n_jobs=-1)]: Done  12 out of  12 | elapsed:  2.4min finished\n"
     ]
    }
   ],
   "source": [
    "params_rf = {\n",
    "    'clf__n_estimators':[\n",
    "        #100,\n",
    "        300,\n",
    "        #500\n",
    "    ],\n",
    "    'clf__min_samples_leaf': [\n",
    "        #1, \n",
    "        2, \n",
    "       # 4\n",
    "    ],\n",
    "    'clf__min_samples_split': [\n",
    "        2,\n",
    "        #5, \n",
    "        #10\n",
    "    ],\n",
    "    'clf__max_features': [\n",
    "        'auto', \n",
    "        #'sqrt'\n",
    "    ],\n",
    "    'clf__bootstrap': [\n",
    "        True, \n",
    "        # False\n",
    "    ],\n",
    "    'clf__class_weight':[\n",
    "        'balanced',\n",
    "        'balanced_subsample',\n",
    "        None,\n",
    "        utils.compute_weights(y)\n",
    "    ]\n",
    "    #'max_depth': [80, 90, 100, 110],\n",
    "}\n",
    "\n",
    "params_fit_rf = {\n",
    "   \n",
    "}\n",
    "\n",
    "gs_rf = GridSearchCV(\n",
    "    estimator=get_pipeline_model(RandomForestClassifier()),\n",
    "    param_grid = params_rf,\n",
    "    verbose=10, \n",
    "    scoring= {\n",
    "        'accuracy': make_scorer(accuracy_score),\n",
    "        'f1_score': make_scorer(f1_score, average='weighted'),\n",
    "    }, \n",
    "    cv=StratifiedKFold(3), \n",
    "    return_train_score=True, \n",
    "    refit='accuracy', \n",
    "    n_jobs=-1\n",
    ")\n",
    "\n",
    "gs_rf = gs_rf.fit(X_train, y_train)"
   ]
  },
  {
   "cell_type": "code",
   "execution_count": 45,
   "metadata": {},
   "outputs": [
    {
     "data": {
      "text/plain": [
       "({'clf__bootstrap': True,\n",
       "  'clf__class_weight': None,\n",
       "  'clf__max_features': 'auto',\n",
       "  'clf__min_samples_leaf': 2,\n",
       "  'clf__min_samples_split': 2,\n",
       "  'clf__n_estimators': 300},\n",
       " 0.8035077139554753)"
      ]
     },
     "execution_count": 45,
     "metadata": {},
     "output_type": "execute_result"
    }
   ],
   "source": [
    "gs_rf.best_params_, gs_rf.best_score_,"
   ]
  },
  {
   "cell_type": "code",
   "execution_count": 47,
   "metadata": {},
   "outputs": [
    {
     "data": {
      "text/html": [
       "<div>\n",
       "<style scoped>\n",
       "    .dataframe tbody tr th:only-of-type {\n",
       "        vertical-align: middle;\n",
       "    }\n",
       "\n",
       "    .dataframe tbody tr th {\n",
       "        vertical-align: top;\n",
       "    }\n",
       "\n",
       "    .dataframe thead th {\n",
       "        text-align: right;\n",
       "    }\n",
       "</style>\n",
       "<table border=\"1\" class=\"dataframe\">\n",
       "  <thead>\n",
       "    <tr style=\"text-align: right;\">\n",
       "      <th></th>\n",
       "      <th>mean_fit_time</th>\n",
       "      <th>std_fit_time</th>\n",
       "      <th>mean_score_time</th>\n",
       "      <th>std_score_time</th>\n",
       "      <th>param_clf__bootstrap</th>\n",
       "      <th>param_clf__class_weight</th>\n",
       "      <th>param_clf__max_features</th>\n",
       "      <th>param_clf__min_samples_leaf</th>\n",
       "      <th>param_clf__min_samples_split</th>\n",
       "      <th>param_clf__n_estimators</th>\n",
       "      <th>params</th>\n",
       "      <th>split0_test_accuracy</th>\n",
       "      <th>split1_test_accuracy</th>\n",
       "      <th>split2_test_accuracy</th>\n",
       "      <th>mean_test_accuracy</th>\n",
       "      <th>std_test_accuracy</th>\n",
       "      <th>rank_test_accuracy</th>\n",
       "      <th>split0_train_accuracy</th>\n",
       "      <th>split1_train_accuracy</th>\n",
       "      <th>split2_train_accuracy</th>\n",
       "      <th>mean_train_accuracy</th>\n",
       "      <th>std_train_accuracy</th>\n",
       "      <th>split0_test_f1_score</th>\n",
       "      <th>split1_test_f1_score</th>\n",
       "      <th>split2_test_f1_score</th>\n",
       "      <th>mean_test_f1_score</th>\n",
       "      <th>std_test_f1_score</th>\n",
       "      <th>rank_test_f1_score</th>\n",
       "      <th>split0_train_f1_score</th>\n",
       "      <th>split1_train_f1_score</th>\n",
       "      <th>split2_train_f1_score</th>\n",
       "      <th>mean_train_f1_score</th>\n",
       "      <th>std_train_f1_score</th>\n",
       "    </tr>\n",
       "  </thead>\n",
       "  <tbody>\n",
       "    <tr>\n",
       "      <th>0</th>\n",
       "      <td>45.046474</td>\n",
       "      <td>0.861603</td>\n",
       "      <td>1.951407</td>\n",
       "      <td>0.123223</td>\n",
       "      <td>True</td>\n",
       "      <td>balanced</td>\n",
       "      <td>auto</td>\n",
       "      <td>2</td>\n",
       "      <td>2</td>\n",
       "      <td>300</td>\n",
       "      <td>{'clf__bootstrap': True, 'clf__class_weight': ...</td>\n",
       "      <td>0.801749</td>\n",
       "      <td>0.798734</td>\n",
       "      <td>0.792175</td>\n",
       "      <td>0.797553</td>\n",
       "      <td>0.003997</td>\n",
       "      <td>3</td>\n",
       "      <td>0.963968</td>\n",
       "      <td>0.964571</td>\n",
       "      <td>0.966833</td>\n",
       "      <td>0.965124</td>\n",
       "      <td>0.001233</td>\n",
       "      <td>0.797317</td>\n",
       "      <td>0.794441</td>\n",
       "      <td>0.788533</td>\n",
       "      <td>0.793431</td>\n",
       "      <td>0.003657</td>\n",
       "      <td>2</td>\n",
       "      <td>0.964271</td>\n",
       "      <td>0.964859</td>\n",
       "      <td>0.967049</td>\n",
       "      <td>0.965393</td>\n",
       "      <td>0.001196</td>\n",
       "    </tr>\n",
       "    <tr>\n",
       "      <th>1</th>\n",
       "      <td>44.541734</td>\n",
       "      <td>4.368953</td>\n",
       "      <td>2.069197</td>\n",
       "      <td>0.202035</td>\n",
       "      <td>True</td>\n",
       "      <td>balanced_subsample</td>\n",
       "      <td>auto</td>\n",
       "      <td>2</td>\n",
       "      <td>2</td>\n",
       "      <td>300</td>\n",
       "      <td>{'clf__bootstrap': True, 'clf__class_weight': ...</td>\n",
       "      <td>0.801900</td>\n",
       "      <td>0.798432</td>\n",
       "      <td>0.793608</td>\n",
       "      <td>0.797980</td>\n",
       "      <td>0.003400</td>\n",
       "      <td>2</td>\n",
       "      <td>0.963704</td>\n",
       "      <td>0.964873</td>\n",
       "      <td>0.965476</td>\n",
       "      <td>0.964684</td>\n",
       "      <td>0.000735</td>\n",
       "      <td>0.797219</td>\n",
       "      <td>0.794030</td>\n",
       "      <td>0.790001</td>\n",
       "      <td>0.793750</td>\n",
       "      <td>0.002954</td>\n",
       "      <td>1</td>\n",
       "      <td>0.964015</td>\n",
       "      <td>0.965151</td>\n",
       "      <td>0.965720</td>\n",
       "      <td>0.964962</td>\n",
       "      <td>0.000709</td>\n",
       "    </tr>\n",
       "    <tr>\n",
       "      <th>2</th>\n",
       "      <td>36.601683</td>\n",
       "      <td>1.095389</td>\n",
       "      <td>2.007960</td>\n",
       "      <td>0.190355</td>\n",
       "      <td>True</td>\n",
       "      <td>None</td>\n",
       "      <td>auto</td>\n",
       "      <td>2</td>\n",
       "      <td>2</td>\n",
       "      <td>300</td>\n",
       "      <td>{'clf__bootstrap': True, 'clf__class_weight': ...</td>\n",
       "      <td>0.810041</td>\n",
       "      <td>0.805216</td>\n",
       "      <td>0.795266</td>\n",
       "      <td>0.803508</td>\n",
       "      <td>0.006152</td>\n",
       "      <td>1</td>\n",
       "      <td>0.948364</td>\n",
       "      <td>0.949118</td>\n",
       "      <td>0.949495</td>\n",
       "      <td>0.948992</td>\n",
       "      <td>0.000470</td>\n",
       "      <td>0.798760</td>\n",
       "      <td>0.793839</td>\n",
       "      <td>0.784170</td>\n",
       "      <td>0.792257</td>\n",
       "      <td>0.006061</td>\n",
       "      <td>4</td>\n",
       "      <td>0.946718</td>\n",
       "      <td>0.947309</td>\n",
       "      <td>0.947607</td>\n",
       "      <td>0.947211</td>\n",
       "      <td>0.000369</td>\n",
       "    </tr>\n",
       "    <tr>\n",
       "      <th>3</th>\n",
       "      <td>36.045924</td>\n",
       "      <td>1.359844</td>\n",
       "      <td>1.972319</td>\n",
       "      <td>0.050538</td>\n",
       "      <td>True</td>\n",
       "      <td>{0: 0.6137822003161908, 1: 4.586518415566365, ...</td>\n",
       "      <td>auto</td>\n",
       "      <td>2</td>\n",
       "      <td>2</td>\n",
       "      <td>300</td>\n",
       "      <td>{'clf__bootstrap': True, 'clf__class_weight': ...</td>\n",
       "      <td>0.802276</td>\n",
       "      <td>0.797754</td>\n",
       "      <td>0.790517</td>\n",
       "      <td>0.796849</td>\n",
       "      <td>0.004843</td>\n",
       "      <td>4</td>\n",
       "      <td>0.963742</td>\n",
       "      <td>0.964043</td>\n",
       "      <td>0.965174</td>\n",
       "      <td>0.964320</td>\n",
       "      <td>0.000617</td>\n",
       "      <td>0.798119</td>\n",
       "      <td>0.793551</td>\n",
       "      <td>0.786997</td>\n",
       "      <td>0.792889</td>\n",
       "      <td>0.004565</td>\n",
       "      <td>3</td>\n",
       "      <td>0.964068</td>\n",
       "      <td>0.964358</td>\n",
       "      <td>0.965438</td>\n",
       "      <td>0.964622</td>\n",
       "      <td>0.000590</td>\n",
       "    </tr>\n",
       "  </tbody>\n",
       "</table>\n",
       "</div>"
      ],
      "text/plain": [
       "   mean_fit_time  std_fit_time  mean_score_time  std_score_time  \\\n",
       "0      45.046474      0.861603         1.951407        0.123223   \n",
       "1      44.541734      4.368953         2.069197        0.202035   \n",
       "2      36.601683      1.095389         2.007960        0.190355   \n",
       "3      36.045924      1.359844         1.972319        0.050538   \n",
       "\n",
       "  param_clf__bootstrap                            param_clf__class_weight  \\\n",
       "0                 True                                           balanced   \n",
       "1                 True                                 balanced_subsample   \n",
       "2                 True                                               None   \n",
       "3                 True  {0: 0.6137822003161908, 1: 4.586518415566365, ...   \n",
       "\n",
       "  param_clf__max_features param_clf__min_samples_leaf  \\\n",
       "0                    auto                           2   \n",
       "1                    auto                           2   \n",
       "2                    auto                           2   \n",
       "3                    auto                           2   \n",
       "\n",
       "  param_clf__min_samples_split param_clf__n_estimators  \\\n",
       "0                            2                     300   \n",
       "1                            2                     300   \n",
       "2                            2                     300   \n",
       "3                            2                     300   \n",
       "\n",
       "                                              params  split0_test_accuracy  \\\n",
       "0  {'clf__bootstrap': True, 'clf__class_weight': ...              0.801749   \n",
       "1  {'clf__bootstrap': True, 'clf__class_weight': ...              0.801900   \n",
       "2  {'clf__bootstrap': True, 'clf__class_weight': ...              0.810041   \n",
       "3  {'clf__bootstrap': True, 'clf__class_weight': ...              0.802276   \n",
       "\n",
       "   split1_test_accuracy  split2_test_accuracy  mean_test_accuracy  \\\n",
       "0              0.798734              0.792175            0.797553   \n",
       "1              0.798432              0.793608            0.797980   \n",
       "2              0.805216              0.795266            0.803508   \n",
       "3              0.797754              0.790517            0.796849   \n",
       "\n",
       "   std_test_accuracy  rank_test_accuracy  split0_train_accuracy  \\\n",
       "0           0.003997                   3               0.963968   \n",
       "1           0.003400                   2               0.963704   \n",
       "2           0.006152                   1               0.948364   \n",
       "3           0.004843                   4               0.963742   \n",
       "\n",
       "   split1_train_accuracy  split2_train_accuracy  mean_train_accuracy  \\\n",
       "0               0.964571               0.966833             0.965124   \n",
       "1               0.964873               0.965476             0.964684   \n",
       "2               0.949118               0.949495             0.948992   \n",
       "3               0.964043               0.965174             0.964320   \n",
       "\n",
       "   std_train_accuracy  split0_test_f1_score  split1_test_f1_score  \\\n",
       "0            0.001233              0.797317              0.794441   \n",
       "1            0.000735              0.797219              0.794030   \n",
       "2            0.000470              0.798760              0.793839   \n",
       "3            0.000617              0.798119              0.793551   \n",
       "\n",
       "   split2_test_f1_score  mean_test_f1_score  std_test_f1_score  \\\n",
       "0              0.788533            0.793431           0.003657   \n",
       "1              0.790001            0.793750           0.002954   \n",
       "2              0.784170            0.792257           0.006061   \n",
       "3              0.786997            0.792889           0.004565   \n",
       "\n",
       "   rank_test_f1_score  split0_train_f1_score  split1_train_f1_score  \\\n",
       "0                   2               0.964271               0.964859   \n",
       "1                   1               0.964015               0.965151   \n",
       "2                   4               0.946718               0.947309   \n",
       "3                   3               0.964068               0.964358   \n",
       "\n",
       "   split2_train_f1_score  mean_train_f1_score  std_train_f1_score  \n",
       "0               0.967049             0.965393            0.001196  \n",
       "1               0.965720             0.964962            0.000709  \n",
       "2               0.947607             0.947211            0.000369  \n",
       "3               0.965438             0.964622            0.000590  "
      ]
     },
     "execution_count": 47,
     "metadata": {},
     "output_type": "execute_result"
    }
   ],
   "source": [
    "pd.DataFrame(gs_rf.cv_results_)"
   ]
  },
  {
   "cell_type": "code",
   "execution_count": 68,
   "metadata": {},
   "outputs": [
    {
     "name": "stdout",
     "output_type": "stream",
     "text": [
      "********** *** **********\n",
      "********** Metrics for: Training **********\n",
      "accuracy: 0.945650535202774\n",
      "********** Classification Report **********\n",
      "              precision    recall  f1-score   support\n",
      "\n",
      "           0       0.99      0.93      0.96     22947\n",
      "           1       0.67      0.94      0.79      2067\n",
      "           2       0.94      0.97      0.95     14784\n",
      "\n",
      "    accuracy                           0.95     39798\n",
      "   macro avg       0.87      0.95      0.90     39798\n",
      "weighted avg       0.95      0.95      0.95     39798\n",
      "\n",
      "********** Confusion Matrix **********\n"
     ]
    },
    {
     "data": {
      "image/png": "[encoded data removed]",
      "text/plain": [
       "<Figure size 432x288 with 2 Axes>"
      ]
     },
     "metadata": {
      "needs_background": "light"
     },
     "output_type": "display_data"
    }
   ],
   "source": [
    "utils.print_metrics(gs_rf.best_estimator_, X_train, y_train, \"Training\")"
   ]
  },
  {
   "cell_type": "code",
   "execution_count": 69,
   "metadata": {},
   "outputs": [
    {
     "name": "stdout",
     "output_type": "stream",
     "text": [
      "********** *** **********\n",
      "********** Metrics for: Test **********\n",
      "accuracy: 0.8073155800428528\n",
      "********** Classification Report **********\n",
      "              precision    recall  f1-score   support\n",
      "\n",
      "           0       0.90      0.80      0.85     12012\n",
      "           1       0.29      0.62      0.39       667\n",
      "           2       0.77      0.84      0.81      6923\n",
      "\n",
      "    accuracy                           0.81     19602\n",
      "   macro avg       0.65      0.75      0.68     19602\n",
      "weighted avg       0.83      0.81      0.82     19602\n",
      "\n",
      "********** Confusion Matrix **********\n"
     ]
    },
    {
     "data": {
      "image/png": "[encoded data removed]",
      "text/plain": [
       "<Figure size 432x288 with 2 Axes>"
      ]
     },
     "metadata": {
      "needs_background": "light"
     },
     "output_type": "display_data"
    }
   ],
   "source": [
    "utils.print_metrics(gs_rf.best_estimator_, X_test, y_test, \"Test\")"
   ]
  },
  {
   "cell_type": "markdown",
   "metadata": {},
   "source": [
    "### Training RandomForest model"
   ]
  },
  {
   "cell_type": "code",
   "execution_count": 78,
   "metadata": {},
   "outputs": [
    {
     "data": {
      "text/plain": [
       "{'clf__bootstrap': True,\n",
       " 'clf__class_weight': None,\n",
       " 'clf__max_features': 'auto',\n",
       " 'clf__min_samples_leaf': 2,\n",
       " 'clf__min_samples_split': 2,\n",
       " 'clf__n_estimators': 300}"
      ]
     },
     "execution_count": 78,
     "metadata": {},
     "output_type": "execute_result"
    }
   ],
   "source": [
    "# rf_params = ParameterGrid(gs_rf.param_grid)[1] # select best params\n",
    "rf_params = gs_rf.best_params_\n",
    "rf_params"
   ]
  },
  {
   "cell_type": "code",
   "execution_count": 79,
   "metadata": {},
   "outputs": [],
   "source": [
    "rf = get_pipeline_model(RandomForestClassifier()).set_params(**rf_params,)\n",
    "rf = rf.fit(X_train, y_train)"
   ]
  },
  {
   "cell_type": "code",
   "execution_count": 80,
   "metadata": {},
   "outputs": [
    {
     "name": "stdout",
     "output_type": "stream",
     "text": [
      "********** *** **********\n",
      "********** Metrics for: Training **********\n",
      "accuracy: 0.9468566259611035\n",
      "********** Classification Report **********\n",
      "              precision    recall  f1-score   support\n",
      "\n",
      "           0       0.99      0.93      0.96     22924\n",
      "           1       0.68      0.95      0.79      2065\n",
      "           2       0.94      0.97      0.96     14809\n",
      "\n",
      "    accuracy                           0.95     39798\n",
      "   macro avg       0.87      0.95      0.90     39798\n",
      "weighted avg       0.95      0.95      0.95     39798\n",
      "\n",
      "********** Confusion Matrix **********\n"
     ]
    },
    {
     "data": {
      "image/png": "[encoded data removed]",
      "text/plain": [
       "<Figure size 432x288 with 2 Axes>"
      ]
     },
     "metadata": {
      "needs_background": "light"
     },
     "output_type": "display_data"
    }
   ],
   "source": [
    "utils.print_metrics(rf, X_train, y_train, \"Training\")"
   ]
  },
  {
   "cell_type": "code",
   "execution_count": 86,
   "metadata": {},
   "outputs": [
    {
     "name": "stdout",
     "output_type": "stream",
     "text": [
      "********** *** **********\n",
      "********** Metrics for: Test **********\n",
      "accuracy: 0.8068054280175492\n",
      "********** Classification Report **********\n",
      "              precision    recall  f1-score   support\n",
      "\n",
      "           0       0.90      0.80      0.85     12051\n",
      "           1       0.29      0.63      0.40       665\n",
      "           2       0.77      0.84      0.80      6886\n",
      "\n",
      "    accuracy                           0.81     19602\n",
      "   macro avg       0.65      0.76      0.68     19602\n",
      "weighted avg       0.83      0.81      0.82     19602\n",
      "\n",
      "********** Confusion Matrix **********\n"
     ]
    },
    {
     "data": {
      "image/png": "[encoded data removed]",
      "text/plain": [
       "<Figure size 432x288 with 2 Axes>"
      ]
     },
     "metadata": {
      "needs_background": "light"
     },
     "output_type": "display_data"
    }
   ],
   "source": [
    "utils.print_metrics(rf, X_test, y_test, \"Test\")"
   ]
  },
  {
   "cell_type": "code",
   "execution_count": 152,
   "metadata": {},
   "outputs": [
    {
     "data": {
      "image/png": "[encoded data removed]",
      "text/plain": [
       "<Figure size 432x288 with 1 Axes>"
      ]
     },
     "metadata": {
      "needs_background": "light"
     },
     "output_type": "display_data"
    }
   ],
   "source": [
    "utils.plot_feature_importances(rf.steps[-1][1], FINAL_COLUMNS)"
   ]
  },
  {
   "cell_type": "markdown",
   "metadata": {},
   "source": [
    "### Train Final Model"
   ]
  },
  {
   "cell_type": "code",
   "execution_count": 88,
   "metadata": {},
   "outputs": [],
   "source": [
    "rf_final = get_pipeline_model(RandomForestClassifier()).set_params(**rf_params,)\n",
    "rf_final = rf_final.fit(X,y)"
   ]
  },
  {
   "cell_type": "code",
   "execution_count": 89,
   "metadata": {},
   "outputs": [
    {
     "name": "stdout",
     "output_type": "stream",
     "text": [
      "********** *** **********\n",
      "********** Metrics for:  **********\n",
      "accuracy: 0.9458585858585858\n",
      "********** Classification Report **********\n",
      "              precision    recall  f1-score   support\n",
      "\n",
      "           0       0.99      0.93      0.96     34255\n",
      "           1       0.67      0.95      0.79      3071\n",
      "           2       0.94      0.97      0.96     22074\n",
      "\n",
      "    accuracy                           0.95     59400\n",
      "   macro avg       0.87      0.95      0.90     59400\n",
      "weighted avg       0.95      0.95      0.95     59400\n",
      "\n",
      "********** Confusion Matrix **********\n"
     ]
    },
    {
     "data": {
      "image/png": "[encoded data removed]",
      "text/plain": [
       "<Figure size 432x288 with 2 Axes>"
      ]
     },
     "metadata": {
      "needs_background": "light"
     },
     "output_type": "display_data"
    }
   ],
   "source": [
    "utils.print_metrics(rf_final, X, y)"
   ]
  },
  {
   "cell_type": "markdown",
   "metadata": {},
   "source": [
    "### Submission Predictions"
   ]
  },
  {
   "cell_type": "code",
   "execution_count": 157,
   "metadata": {},
   "outputs": [],
   "source": [
    "predictions = rf_final.predict(datatest)\n",
    "predictions = y_transformer.inverse_transform(predictions)\n",
    "now_str = datetime.now().strftime('%Y-%m-%d_%H-%M-%S')\n",
    "pd.DataFrame(predictions, index=datatest.index, columns=['status_group']).to_csv(f'../data/results/results-rf-{now_str}.csv')"
   ]
  },
  {
   "cell_type": "code",
   "execution_count": 139,
   "metadata": {},
   "outputs": [],
   "source": [
    "def get_predictions(clf, name, to_predict):\n",
    "    predictions = clf.predict(to_predict)\n",
    "    predictions = y_transformer.inverse_transform(predictions)\n",
    "    now_str = datetime.now().strftime('%Y-%m-%d_%H-%M-%S')\n",
    "    pd.DataFrame(predictions, index=datatest.index, columns=['status_group']).to_csv(f'../data/results/results-{name}-{now_str}.csv')"
   ]
  },
  {
   "cell_type": "markdown",
   "metadata": {},
   "source": [
    "____________________________________\n",
    "### Other models!\n",
    "____________________________________\n",
    "\n",
    "### LightGBM\n"
   ]
  },
  {
   "cell_type": "code",
   "execution_count": 92,
   "metadata": {},
   "outputs": [
    {
     "name": "stdout",
     "output_type": "stream",
     "text": [
      "Fitting 3 folds for each of 1 candidates, totalling 3 fits\n"
     ]
    },
    {
     "name": "stderr",
     "output_type": "stream",
     "text": [
      "[Parallel(n_jobs=1)]: Using backend SequentialBackend with 1 concurrent workers.\n",
      "[Parallel(n_jobs=1)]: Done   3 out of   3 | elapsed:   14.6s finished\n"
     ]
    }
   ],
   "source": [
    "# other scikit-learn modules\n",
    "estimator = LGBMClassifier(\n",
    "    silent=False,\n",
    ")\n",
    "\n",
    "param_grid = {\n",
    "    'learning_rate': [0.1],\n",
    "    'n_estimators': [300],\n",
    "    'subsample': [0.7],\n",
    "    'num_leaves': [40],\n",
    "    #'max_depth': [15],\n",
    "    'colsample_bytree': [0.7],\n",
    "    'reg_alpha': [\n",
    "        #.5, \n",
    "         1, \n",
    "        #1.2\n",
    "        #1e-2\n",
    "    ],\n",
    "    'reg_lambda': [\n",
    "       .5,\n",
    "      #  1e-2, \n",
    "      #  1e-1\n",
    "    ],\n",
    "    'objective': [\n",
    "        #'multiclass', \n",
    "        'multiclassova'\n",
    "    ]\n",
    "    # 'min_child_weight':[0.001, 0.01, 0.05], \n",
    "}\n",
    "\n",
    "param_fit_grid={\n",
    "    'eval_set': [(X_test_preprocess, y_test)],\n",
    "    'verbose':False,\n",
    "    'early_stopping_rounds':10\n",
    "}\n",
    "\n",
    "gbm = GridSearchCV(\n",
    "    estimator, \n",
    "    param_grid, \n",
    "    scoring= {\n",
    "         'f1_score': make_scorer(f1_score, average='micro'),\n",
    "         'accuracy': make_scorer(accuracy_score)\n",
    "    }, \n",
    "    cv=StratifiedKFold(3), \n",
    "    return_train_score=True, \n",
    "    verbose=True,\n",
    "    refit='accuracy'#'f1_score'\n",
    ")\n",
    "\n",
    "gbm = gbm.fit(\n",
    "    X_train_preprocess, \n",
    "    y_train, \n",
    "    **param_fit_grid, \n",
    "    categorical_feature=list(TEXT_COLUMNS),   \n",
    ")"
   ]
  },
  {
   "cell_type": "code",
   "execution_count": 94,
   "metadata": {},
   "outputs": [
    {
     "data": {
      "text/plain": [
       "({'colsample_bytree': 0.7,\n",
       "  'learning_rate': 0.1,\n",
       "  'n_estimators': 300,\n",
       "  'num_leaves': 40,\n",
       "  'objective': 'multiclassova',\n",
       "  'reg_alpha': 1,\n",
       "  'reg_lambda': 0.5,\n",
       "  'subsample': 0.7},\n",
       " 0.790341223177044)"
      ]
     },
     "execution_count": 94,
     "metadata": {},
     "output_type": "execute_result"
    }
   ],
   "source": [
    "# test other parameters\n",
    "gbm.best_params_, gbm.best_score_"
   ]
  },
  {
   "cell_type": "code",
   "execution_count": 95,
   "metadata": {},
   "outputs": [
    {
     "data": {
      "text/html": [
       "<div>\n",
       "<style scoped>\n",
       "    .dataframe tbody tr th:only-of-type {\n",
       "        vertical-align: middle;\n",
       "    }\n",
       "\n",
       "    .dataframe tbody tr th {\n",
       "        vertical-align: top;\n",
       "    }\n",
       "\n",
       "    .dataframe thead th {\n",
       "        text-align: right;\n",
       "    }\n",
       "</style>\n",
       "<table border=\"1\" class=\"dataframe\">\n",
       "  <thead>\n",
       "    <tr style=\"text-align: right;\">\n",
       "      <th></th>\n",
       "      <th>mean_fit_time</th>\n",
       "      <th>std_fit_time</th>\n",
       "      <th>mean_score_time</th>\n",
       "      <th>std_score_time</th>\n",
       "      <th>param_colsample_bytree</th>\n",
       "      <th>param_learning_rate</th>\n",
       "      <th>param_n_estimators</th>\n",
       "      <th>param_num_leaves</th>\n",
       "      <th>param_objective</th>\n",
       "      <th>param_reg_alpha</th>\n",
       "      <th>param_reg_lambda</th>\n",
       "      <th>param_subsample</th>\n",
       "      <th>params</th>\n",
       "      <th>split0_test_f1_score</th>\n",
       "      <th>split1_test_f1_score</th>\n",
       "      <th>split2_test_f1_score</th>\n",
       "      <th>mean_test_f1_score</th>\n",
       "      <th>std_test_f1_score</th>\n",
       "      <th>rank_test_f1_score</th>\n",
       "      <th>split0_train_f1_score</th>\n",
       "      <th>split1_train_f1_score</th>\n",
       "      <th>split2_train_f1_score</th>\n",
       "      <th>mean_train_f1_score</th>\n",
       "      <th>std_train_f1_score</th>\n",
       "      <th>split0_test_accuracy</th>\n",
       "      <th>split1_test_accuracy</th>\n",
       "      <th>split2_test_accuracy</th>\n",
       "      <th>mean_test_accuracy</th>\n",
       "      <th>std_test_accuracy</th>\n",
       "      <th>rank_test_accuracy</th>\n",
       "      <th>split0_train_accuracy</th>\n",
       "      <th>split1_train_accuracy</th>\n",
       "      <th>split2_train_accuracy</th>\n",
       "      <th>mean_train_accuracy</th>\n",
       "      <th>std_train_accuracy</th>\n",
       "    </tr>\n",
       "  </thead>\n",
       "  <tbody>\n",
       "    <tr>\n",
       "      <th>0</th>\n",
       "      <td>3.570603</td>\n",
       "      <td>0.194909</td>\n",
       "      <td>0.42803</td>\n",
       "      <td>0.012692</td>\n",
       "      <td>0.7</td>\n",
       "      <td>0.1</td>\n",
       "      <td>300</td>\n",
       "      <td>40</td>\n",
       "      <td>multiclassova</td>\n",
       "      <td>1</td>\n",
       "      <td>0.5</td>\n",
       "      <td>0.7</td>\n",
       "      <td>{'colsample_bytree': 0.7, 'learning_rate': 0.1...</td>\n",
       "      <td>0.798583</td>\n",
       "      <td>0.791045</td>\n",
       "      <td>0.781396</td>\n",
       "      <td>0.790341</td>\n",
       "      <td>0.007034</td>\n",
       "      <td>1</td>\n",
       "      <td>0.84807</td>\n",
       "      <td>0.847053</td>\n",
       "      <td>0.847505</td>\n",
       "      <td>0.847543</td>\n",
       "      <td>0.000416</td>\n",
       "      <td>0.798583</td>\n",
       "      <td>0.791045</td>\n",
       "      <td>0.781396</td>\n",
       "      <td>0.790341</td>\n",
       "      <td>0.007034</td>\n",
       "      <td>1</td>\n",
       "      <td>0.84807</td>\n",
       "      <td>0.847053</td>\n",
       "      <td>0.847505</td>\n",
       "      <td>0.847543</td>\n",
       "      <td>0.000416</td>\n",
       "    </tr>\n",
       "  </tbody>\n",
       "</table>\n",
       "</div>"
      ],
      "text/plain": [
       "   mean_fit_time  std_fit_time  mean_score_time  std_score_time  \\\n",
       "0       3.570603      0.194909          0.42803        0.012692   \n",
       "\n",
       "  param_colsample_bytree param_learning_rate param_n_estimators  \\\n",
       "0                    0.7                 0.1                300   \n",
       "\n",
       "  param_num_leaves param_objective param_reg_alpha param_reg_lambda  \\\n",
       "0               40   multiclassova               1              0.5   \n",
       "\n",
       "  param_subsample                                             params  \\\n",
       "0             0.7  {'colsample_bytree': 0.7, 'learning_rate': 0.1...   \n",
       "\n",
       "   split0_test_f1_score  split1_test_f1_score  split2_test_f1_score  \\\n",
       "0              0.798583              0.791045              0.781396   \n",
       "\n",
       "   mean_test_f1_score  std_test_f1_score  rank_test_f1_score  \\\n",
       "0            0.790341           0.007034                   1   \n",
       "\n",
       "   split0_train_f1_score  split1_train_f1_score  split2_train_f1_score  \\\n",
       "0                0.84807               0.847053               0.847505   \n",
       "\n",
       "   mean_train_f1_score  std_train_f1_score  split0_test_accuracy  \\\n",
       "0             0.847543            0.000416              0.798583   \n",
       "\n",
       "   split1_test_accuracy  split2_test_accuracy  mean_test_accuracy  \\\n",
       "0              0.791045              0.781396            0.790341   \n",
       "\n",
       "   std_test_accuracy  rank_test_accuracy  split0_train_accuracy  \\\n",
       "0           0.007034                   1                0.84807   \n",
       "\n",
       "   split1_train_accuracy  split2_train_accuracy  mean_train_accuracy  \\\n",
       "0               0.847053               0.847505             0.847543   \n",
       "\n",
       "   std_train_accuracy  \n",
       "0            0.000416  "
      ]
     },
     "execution_count": 95,
     "metadata": {},
     "output_type": "execute_result"
    }
   ],
   "source": [
    "pd.DataFrame(gbm.cv_results_)"
   ]
  },
  {
   "cell_type": "code",
   "execution_count": 93,
   "metadata": {},
   "outputs": [
    {
     "name": "stdout",
     "output_type": "stream",
     "text": [
      "********** *** **********\n",
      "********** Metrics for:  **********\n",
      "accuracy: 0.7961942658912355\n",
      "********** Classification Report **********\n",
      "              precision    recall  f1-score   support\n",
      "\n",
      "           0       0.89      0.79      0.84     11991\n",
      "           1       0.31      0.62      0.41       716\n",
      "           2       0.76      0.83      0.79      6895\n",
      "\n",
      "    accuracy                           0.80     19602\n",
      "   macro avg       0.65      0.74      0.68     19602\n",
      "weighted avg       0.82      0.80      0.80     19602\n",
      "\n",
      "********** Confusion Matrix **********\n"
     ]
    },
    {
     "data": {
      "image/png": "[encoded data removed]",
      "text/plain": [
       "<Figure size 432x288 with 2 Axes>"
      ]
     },
     "metadata": {
      "needs_background": "light"
     },
     "output_type": "display_data"
    }
   ],
   "source": [
    "utils.print_metrics(gbm.best_estimator_, X_test_preprocess, y_test)"
   ]
  },
  {
   "cell_type": "markdown",
   "metadata": {},
   "source": [
    "### Train LGB model"
   ]
  },
  {
   "cell_type": "code",
   "execution_count": 99,
   "metadata": {},
   "outputs": [
    {
     "data": {
      "text/plain": [
       "LGBMClassifier(boosting_type='gbdt', class_weight=None, colsample_bytree=0.7,\n",
       "               importance_type='split', learning_rate=0.1, max_depth=-1,\n",
       "               min_child_samples=20, min_child_weight=0.001, min_split_gain=0.0,\n",
       "               n_estimators=300, n_jobs=-1, num_leaves=40,\n",
       "               objective='multiclassova', random_state=None, reg_alpha=1,\n",
       "               reg_lambda=0.5, silent=False, subsample=0.7,\n",
       "               subsample_for_bin=200000, subsample_freq=0)"
      ]
     },
     "execution_count": 99,
     "metadata": {},
     "output_type": "execute_result"
    }
   ],
   "source": [
    "model_lgb = LGBMClassifier(\n",
    "    **gbm.best_params_,\n",
    "    silent=False,\n",
    "    #class_weight= compute_weights(y_train)\n",
    "#     scale_pos_weight=1\n",
    ")\n",
    "\n",
    "model_lgb.fit(\n",
    "    X_train_preprocess, y_train, \n",
    "    eval_set= [(X_train_preprocess, y_train), (X_test_preprocess, y_test)],\n",
    "    verbose=False,\n",
    "    early_stopping_rounds=10,\n",
    "    categorical_feature=list(TEXT_COLUMNS),\n",
    ")"
   ]
  },
  {
   "cell_type": "code",
   "execution_count": 102,
   "metadata": {},
   "outputs": [
    {
     "name": "stdout",
     "output_type": "stream",
     "text": [
      "********** *** **********\n",
      "********** Metrics for:  **********\n",
      "accuracy: 0.8499422081511634\n",
      "********** Classification Report **********\n",
      "              precision    recall  f1-score   support\n",
      "\n",
      "           0       0.93      0.83      0.88     24191\n",
      "           1       0.41      0.78      0.54      1536\n",
      "           2       0.81      0.88      0.85     14071\n",
      "\n",
      "    accuracy                           0.85     39798\n",
      "   macro avg       0.72      0.83      0.76     39798\n",
      "weighted avg       0.87      0.85      0.86     39798\n",
      "\n",
      "********** Confusion Matrix **********\n"
     ]
    },
    {
     "data": {
      "image/png": "[encoded data removed]",
      "text/plain": [
       "<Figure size 432x288 with 2 Axes>"
      ]
     },
     "metadata": {
      "needs_background": "light"
     },
     "output_type": "display_data"
    }
   ],
   "source": [
    "utils.print_metrics(model_lgb, X_train_preprocess, y_train)"
   ]
  },
  {
   "cell_type": "code",
   "execution_count": 103,
   "metadata": {},
   "outputs": [
    {
     "name": "stdout",
     "output_type": "stream",
     "text": [
      "********** *** **********\n",
      "********** Metrics for:  **********\n",
      "accuracy: 0.7961942658912355\n",
      "********** Classification Report **********\n",
      "              precision    recall  f1-score   support\n",
      "\n",
      "           0       0.89      0.79      0.84     11991\n",
      "           1       0.31      0.62      0.41       716\n",
      "           2       0.76      0.83      0.79      6895\n",
      "\n",
      "    accuracy                           0.80     19602\n",
      "   macro avg       0.65      0.74      0.68     19602\n",
      "weighted avg       0.82      0.80      0.80     19602\n",
      "\n",
      "********** Confusion Matrix **********\n"
     ]
    },
    {
     "data": {
      "image/png": "[encoded data removed]",
      "text/plain": [
       "<Figure size 432x288 with 2 Axes>"
      ]
     },
     "metadata": {
      "needs_background": "light"
     },
     "output_type": "display_data"
    }
   ],
   "source": [
    "utils.print_metrics(model_lgb, X_test_preprocess, y_test)"
   ]
  },
  {
   "cell_type": "markdown",
   "metadata": {},
   "source": [
    "### Test LGB model"
   ]
  },
  {
   "cell_type": "code",
   "execution_count": 105,
   "metadata": {},
   "outputs": [
    {
     "data": {
      "image/png": "[encoded data removed]",
      "text/plain": [
       "<Figure size 432x288 with 1 Axes>"
      ]
     },
     "metadata": {
      "needs_background": "light"
     },
     "output_type": "display_data"
    }
   ],
   "source": [
    "utils.plot_feature_importances(model_lgb, FINAL_COLUMNS)"
   ]
  },
  {
   "cell_type": "markdown",
   "metadata": {},
   "source": [
    "### LGB for final prediction"
   ]
  },
  {
   "cell_type": "code",
   "execution_count": 107,
   "metadata": {},
   "outputs": [
    {
     "data": {
      "text/plain": [
       "LGBMClassifier(boosting_type='gbdt', class_weight=None, colsample_bytree=0.7,\n",
       "               importance_type='split', learning_rate=0.1, max_depth=-1,\n",
       "               min_child_samples=20, min_child_weight=0.001, min_split_gain=0.0,\n",
       "               n_estimators=300, n_jobs=-1, num_leaves=40,\n",
       "               objective='multiclassova', random_state=None, reg_alpha=1,\n",
       "               reg_lambda=0.5, silent=True, subsample=0.7,\n",
       "               subsample_for_bin=200000, subsample_freq=0)"
      ]
     },
     "execution_count": 107,
     "metadata": {},
     "output_type": "execute_result"
    }
   ],
   "source": [
    "final_lgb =  LGBMClassifier(\n",
    "   **gbm.best_params_,\n",
    "    silent=True\n",
    ")\n",
    "\n",
    "final_lgb.fit(\n",
    "    X_prepro, y\n",
    ")"
   ]
  },
  {
   "cell_type": "code",
   "execution_count": 108,
   "metadata": {},
   "outputs": [
    {
     "data": {
      "text/plain": [
       "0.8565319865319865"
      ]
     },
     "execution_count": 108,
     "metadata": {},
     "output_type": "execute_result"
    }
   ],
   "source": [
    "accuracy_score(final_lgb.predict(X_prepro, num_iteration=final_lgb.best_iteration_), y)"
   ]
  },
  {
   "cell_type": "code",
   "execution_count": 109,
   "metadata": {},
   "outputs": [],
   "source": [
    "predictions = final_lgb.predict(datatest_prepro)\n",
    "predictions = y_transformer.inverse_transform(predictions)"
   ]
  },
  {
   "cell_type": "code",
   "execution_count": 110,
   "metadata": {},
   "outputs": [],
   "source": [
    "# export data for submition\n",
    "now_str = datetime.now().strftime('%Y-%m-%d_%H-%M-%S')\n",
    "pd.DataFrame(predictions, index=datatest.index, columns=['status_group']).to_csv(f'../data/results/results-lgb-{now_str}.csv')"
   ]
  },
  {
   "cell_type": "markdown",
   "metadata": {},
   "source": [
    "TODO: Next part need refactors\n",
    "_____________________________\n",
    "\n",
    "### XGBClassifier\n",
    "same approach but for xgb"
   ]
  },
  {
   "cell_type": "code",
   "execution_count": null,
   "metadata": {},
   "outputs": [],
   "source": [
    "params_xgb = {\n",
    "    \"eta\": [0.1],\n",
    "    \"max_depth\": [7],\n",
    "    \"gamma\": [0.8],\n",
    "    \"min_child_weight\": [1],\n",
    "    \"subsample\": [0.5],\n",
    "    \"colsample_bytree\": [0.8],\n",
    "    \"max_bin\": [256],\n",
    "    \"n_estimators\":[500]\n",
    "}\n",
    "\n",
    "params_fit_xgb = {\n",
    "    'early_stopping_rounds':5, \n",
    "    'eval_metric':\"auc\",\n",
    "    'eval_set':[(X_test_preprocess, y_test)]\n",
    "}\n",
    "\n",
    "xgb_model = XGBClassifier()\n",
    "gs_xgb = GridSearchCV(\n",
    "    xgb_model,params_xgb, \n",
    "    verbose=1, \n",
    "    scoring= {'accuracy': make_scorer(accuracy_score)}, \n",
    "    cv=StratifiedKFold(3), \n",
    "    return_train_score=True, \n",
    "    refit='accuracy', \n",
    "    n_jobs=3\n",
    ")\n",
    "\n",
    "gs_xgb.fit(X_train_preprocess, y_train, **param_fit_grid)"
   ]
  },
  {
   "cell_type": "code",
   "execution_count": null,
   "metadata": {},
   "outputs": [],
   "source": [
    "gs_xgb.best_params_, gs_xgb.best_score_,"
   ]
  },
  {
   "cell_type": "code",
   "execution_count": null,
   "metadata": {},
   "outputs": [],
   "source": [
    "pd.DataFrame(gs_xgb.cv_results_)"
   ]
  },
  {
   "cell_type": "code",
   "execution_count": null,
   "metadata": {},
   "outputs": [],
   "source": [
    "xgb_model = XGBClassifier(\n",
    "    **gs_xgb.best_params_,\n",
    "    silent=False,\n",
    ")\n",
    "\n",
    "\n",
    "xgb_model.fit(\n",
    "    X_train_preprocess, y_train, \n",
    "    eval_set= [(X_train_preprocess, y_train), (X_test_preprocess, y_test)],\n",
    "    verbose=False,\n",
    "    early_stopping_rounds=10,\n",
    ")\n",
    "\n",
    "print(accuracy_score(xgb_model.predict(X_train_preprocess), y_train))\n",
    "print(accuracy_score(xgb_model.predict(X_test_preprocess), y_test))"
   ]
  },
  {
   "cell_type": "code",
   "execution_count": null,
   "metadata": {},
   "outputs": [],
   "source": [
    "print(classification_report(y_train, xgb_model.predict(X_train_preprocess)))\n",
    "print(classification_report(y_test, xgb_model.predict(X_test_preprocess)))"
   ]
  },
  {
   "cell_type": "code",
   "execution_count": null,
   "metadata": {},
   "outputs": [],
   "source": [
    "plot_importance_xgb(xgb_model, max_num_features=10)"
   ]
  },
  {
   "cell_type": "markdown",
   "metadata": {},
   "source": [
    "### XGB for final prediction (deployment)"
   ]
  },
  {
   "cell_type": "code",
   "execution_count": null,
   "metadata": {},
   "outputs": [],
   "source": [
    "final_xgb = XGBClassifier(\n",
    "  **gs_xgb.best_params_,\n",
    "    silent=True\n",
    ").fit(X_prepro, y)\n",
    "accuracy_score(final_xgb.predict(X_prepro), y)"
   ]
  },
  {
   "cell_type": "code",
   "execution_count": null,
   "metadata": {},
   "outputs": [],
   "source": [
    "predictions = final_xgb.predict(datatest_prepro)\n",
    "predictions = y_transformer.inverse_transform(predictions)\n",
    "pd.DataFrame(predictions, index=datatest.index, columns=['status_group']).to_csv('../data/results/results-3-xgb.csv')"
   ]
  },
  {
   "cell_type": "markdown",
   "metadata": {},
   "source": [
    "__________________________\n",
    "## StackingClassifier "
   ]
  },
  {
   "cell_type": "code",
   "execution_count": 144,
   "metadata": {},
   "outputs": [
    {
     "name": "stdout",
     "output_type": "stream",
     "text": [
      "Fitting 2 classifiers...\n",
      "Fitting classifier1: randomforestclassifier (1/2)\n"
     ]
    },
    {
     "name": "stderr",
     "output_type": "stream",
     "text": [
      "[Parallel(n_jobs=1)]: Using backend SequentialBackend with 1 concurrent workers.\n",
      "[Parallel(n_jobs=1)]: Done 300 out of 300 | elapsed:   23.4s finished\n"
     ]
    },
    {
     "name": "stdout",
     "output_type": "stream",
     "text": [
      "Fitting classifier2: lgbmclassifier (2/2)\n"
     ]
    },
    {
     "name": "stderr",
     "output_type": "stream",
     "text": [
      "[Parallel(n_jobs=1)]: Using backend SequentialBackend with 1 concurrent workers.\n",
      "[Parallel(n_jobs=1)]: Done 300 out of 300 | elapsed:    2.5s finished\n",
      "[Parallel(n_jobs=1)]: Using backend SequentialBackend with 1 concurrent workers.\n",
      "[Parallel(n_jobs=1)]: Done 300 out of 300 | elapsed:    2.6s finished\n"
     ]
    },
    {
     "name": "stdout",
     "output_type": "stream",
     "text": [
      "0.9849238655208804\n"
     ]
    },
    {
     "name": "stderr",
     "output_type": "stream",
     "text": [
      "[Parallel(n_jobs=1)]: Using backend SequentialBackend with 1 concurrent workers.\n",
      "[Parallel(n_jobs=1)]: Done 300 out of 300 | elapsed:    1.3s finished\n"
     ]
    },
    {
     "name": "stdout",
     "output_type": "stream",
     "text": [
      "0.7748188960310173\n"
     ]
    }
   ],
   "source": [
    "clf1=RandomForestClassifier(\n",
    "    **{'bootstrap': True,\n",
    " 'class_weight': None,\n",
    " 'max_features': 'auto',\n",
    " 'min_samples_leaf': 2,\n",
    " 'min_samples_split': 2,\n",
    " 'n_estimators': 300}\n",
    ", verbose=True)\n",
    "\n",
    "clf2=LGBMClassifier(**gbm.best_params_, silent=False)\n",
    "lr = XGBClassifier(verbose=True)\n",
    "\n",
    "sclf = StackingClassifier(\n",
    "    classifiers=[clf1, clf2], \n",
    "    meta_classifier=lr,\n",
    "    use_probas=True,\n",
    "    average_probas=False,\n",
    "    verbose=1\n",
    ")\n",
    "\n",
    "sclf.fit(X_train_preprocess, y_train)\n",
    "\n",
    "print(accuracy_score(sclf.predict(X_train_preprocess), y_train))\n",
    "print(accuracy_score(sclf.predict(X_test_preprocess), y_test))"
   ]
  },
  {
   "cell_type": "code",
   "execution_count": 145,
   "metadata": {},
   "outputs": [
    {
     "name": "stderr",
     "output_type": "stream",
     "text": [
      "[Parallel(n_jobs=1)]: Using backend SequentialBackend with 1 concurrent workers.\n",
      "[Parallel(n_jobs=1)]: Done 300 out of 300 | elapsed:    2.6s finished\n"
     ]
    },
    {
     "name": "stdout",
     "output_type": "stream",
     "text": [
      "              precision    recall  f1-score   support\n",
      "\n",
      "           0       0.99      0.99      0.99     21614\n",
      "           1       0.94      0.96      0.95      2892\n",
      "           2       0.99      0.99      0.99     15292\n",
      "\n",
      "    accuracy                           0.98     39798\n",
      "   macro avg       0.97      0.98      0.98     39798\n",
      "weighted avg       0.98      0.98      0.98     39798\n",
      "\n"
     ]
    },
    {
     "name": "stderr",
     "output_type": "stream",
     "text": [
      "[Parallel(n_jobs=1)]: Using backend SequentialBackend with 1 concurrent workers.\n",
      "[Parallel(n_jobs=1)]: Done 300 out of 300 | elapsed:    1.3s finished\n"
     ]
    },
    {
     "name": "stdout",
     "output_type": "stream",
     "text": [
      "              precision    recall  f1-score   support\n",
      "\n",
      "           0       0.82      0.81      0.81     10645\n",
      "           1       0.49      0.40      0.44      1425\n",
      "           2       0.76      0.80      0.78      7532\n",
      "\n",
      "    accuracy                           0.77     19602\n",
      "   macro avg       0.69      0.67      0.68     19602\n",
      "weighted avg       0.77      0.77      0.77     19602\n",
      "\n"
     ]
    }
   ],
   "source": [
    "print(classification_report(y_train, sclf.predict(X_train_preprocess)))\n",
    "print(classification_report(y_test, sclf.predict(X_test_preprocess)))"
   ]
  },
  {
   "cell_type": "markdown",
   "metadata": {},
   "source": [
    "____________________\n",
    "## Ensemble Voting"
   ]
  },
  {
   "cell_type": "code",
   "execution_count": 141,
   "metadata": {},
   "outputs": [],
   "source": [
    "eclf = EnsembleVoteClassifier(\n",
    "    clfs=[rf_final.steps[-1][1], final_lgb], \n",
    "    weights=[1.5,1], \n",
    "    refit=False,\n",
    "    voting='soft'\n",
    ")\n",
    "\n",
    "eclf = eclf.fit(X_prepro, y)"
   ]
  },
  {
   "cell_type": "code",
   "execution_count": 142,
   "metadata": {},
   "outputs": [
    {
     "name": "stdout",
     "output_type": "stream",
     "text": [
      "********** *** **********\n",
      "********** Metrics for:  **********\n",
      "accuracy: 0.8191245791245791\n",
      "********** Classification Report **********\n",
      "              precision    recall  f1-score   support\n",
      "\n",
      "           0       0.95      0.78      0.86     39068\n",
      "           1       0.18      0.92      0.29       825\n",
      "           2       0.76      0.89      0.82     19507\n",
      "\n",
      "    accuracy                           0.82     59400\n",
      "   macro avg       0.63      0.86      0.66     59400\n",
      "weighted avg       0.88      0.82      0.84     59400\n",
      "\n",
      "********** Confusion Matrix **********\n"
     ]
    },
    {
     "data": {
      "image/png": "[encoded data removed]",
      "text/plain": [
       "<Figure size 432x288 with 2 Axes>"
      ]
     },
     "metadata": {
      "needs_background": "light"
     },
     "output_type": "display_data"
    }
   ],
   "source": [
    "utils.print_metrics(eclf, X_prepro, y)"
   ]
  },
  {
   "cell_type": "code",
   "execution_count": 140,
   "metadata": {},
   "outputs": [],
   "source": [
    "get_predictions(eclf, 'eclf', datatest_prepro)"
   ]
  },
  {
   "cell_type": "markdown",
   "metadata": {},
   "source": [
    "_______________________\n",
    "## CatBoost"
   ]
  },
  {
   "cell_type": "code",
   "execution_count": null,
   "metadata": {},
   "outputs": [],
   "source": [
    "cat_final = CatBoostClassifier(\n",
    "    silent=False,\n",
    "    use_best_model=True,\n",
    "    eval_metric='Accuracy',\n",
    "    n_estimators=1000,\n",
    "    learning_rate=0.1\n",
    "    \n",
    ").fit(X_prepro, y,\n",
    "    early_stopping_rounds= 5,\n",
    ")\n",
    "accuracy_score(cat_final.predict(X_prepro), y)\n"
   ]
  },
  {
   "cell_type": "code",
   "execution_count": null,
   "metadata": {},
   "outputs": [],
   "source": [
    "predictions = cat_final.predict(datatest_prepro)\n",
    "predictions = y_transformer.inverse_transform(predictions)\n",
    "now_str = datetime.now().strftime('%Y-%m-%d_%H-%M-%S')\n",
    "pd.DataFrame(predictions, index=datatest.index, columns=['status_group']).to_csv(f'../data/results/results-cat-{now_str}.csv')"
   ]
  },
  {
   "cell_type": "code",
   "execution_count": null,
   "metadata": {},
   "outputs": [],
   "source": [
    "\n",
    "utils.plot_feature_importances(model_lgb, X_prepro.columns)\n"
   ]
  },
  {
   "cell_type": "markdown",
   "metadata": {},
   "source": [
    "## Other models"
   ]
  },
  {
   "cell_type": "code",
   "execution_count": null,
   "metadata": {},
   "outputs": [],
   "source": [
    "from sklearn.linear_model import LogisticRegression, \n",
    "    SGDClassifier\n",
    "from sklearn.multiclass import OneVsRestClassifier"
   ]
  },
  {
   "cell_type": "code",
   "execution_count": null,
   "metadata": {},
   "outputs": [],
   "source": [
    "lr_final = OneVsRestClassifier(LogisticRegression()).fit(X_prepro, y)\n",
    "accuracy_score(lr_final.predict(X_prepro), y)"
   ]
  },
  {
   "cell_type": "code",
   "execution_count": null,
   "metadata": {},
   "outputs": [],
   "source": [
    "lr_final = OneVsRestClassifier(SGDClassifier()).fit(X_prepro, y)\n",
    "accuracy_score(lr_final.predict(X_prepro), y)"
   ]
  },
  {
   "cell_type": "code",
   "execution_count": null,
   "metadata": {},
   "outputs": [],
   "source": [
    "import tensorflow as tf\n",
    "\n",
    "from tensorflow import feature_column\n",
    "from tensorflow.keras import layers\n"
   ]
  },
  {
   "cell_type": "code",
   "execution_count": null,
   "metadata": {},
   "outputs": [],
   "source": [
    "y_train_onehot = OneHotEncoder().fit_transform(y_train.reshape(-1,1)).toarray()\n",
    "y_test_onehot = OneHotEncoder().fit_transform(y_test.reshape(-1,1)).toarray()"
   ]
  },
  {
   "cell_type": "code",
   "execution_count": null,
   "metadata": {},
   "outputs": [],
   "source": [
    "model_keras = tf.keras.Sequential([\n",
    "    layers.Dense(5000, input_shape=(32,)),\n",
    "    layers.Dropout(0.3),\n",
    "    layers.Dense(100, activation='tanh'),\n",
    "    layers.Dense(y_train_onehot.shape[1], activation='softmax')\n",
    "])\n",
    "\n",
    "model_keras.compile(\n",
    "    optimizer='adam',\n",
    "    loss='categorical_crossentropy',\n",
    "    metrics=['accuracy']\n",
    ")\n",
    "\n",
    "model_keras.fit(\n",
    "    X_train_preprocess, y_train_onehot,\n",
    "    validation_data=(X_test_preprocess,y_test_onehot),\n",
    "    epochs=5\n",
    ")"
   ]
  },
  {
   "cell_type": "code",
   "execution_count": null,
   "metadata": {},
   "outputs": [],
   "source": []
  }
 ],
 "metadata": {
  "kernelspec": {
   "display_name": "Python 3",
   "language": "python",
   "name": "python3"
  },
  "language_info": {
   "codemirror_mode": {
    "name": "ipython",
    "version": 3
   },
   "file_extension": ".py",
   "mimetype": "text/x-python",
   "name": "python",
   "nbconvert_exporter": "python",
   "pygments_lexer": "ipython3",
   "version": "3.6.9"
  }
 },
 "nbformat": 4,
 "nbformat_minor": 2
}
